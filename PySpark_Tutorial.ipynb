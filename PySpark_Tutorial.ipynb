{
  "cells": [
    {
      "cell_type": "markdown",
      "metadata": {
        "id": "view-in-github",
        "colab_type": "text"
      },
      "source": [
        "<a href=\"https://colab.research.google.com/github/Sultan477/DataScience/blob/main/PySpark_Tutorial.ipynb\" target=\"_parent\"><img src=\"https://colab.research.google.com/assets/colab-badge.svg\" alt=\"Open In Colab\"/></a>"
      ]
    },
    {
      "cell_type": "markdown",
      "metadata": {
        "id": "Y_BKipyYTDnO"
      },
      "source": [
        "Pandas - одна из наиболее используемых библиотек Python с открытым исходным кодом для работы со структурированными табличными данными для анализа. Однако он не поддерживает распределенную обработку, поэтому вам всегда придется увеличивать ресурсы, когда вам понадобится дополнительная мощность для поддержки растущих данных. И всегда наступит момент, когда ресурсов станет недостаточно. В данной статье мы рассмотрим, как PySpark выручает в условиях нехватки мощностей для обработки данных.\n",
        "\n",
        "Ну что же, приступим. Для начала скачаем необходимые наборы данных с kaggle. Инструкция по скачиванию данных в colab напрямую с kaggle ниже:\n",
        "\n",
        "1. Заходим в раздел Account на [kaggle.com](https://www.kaggle.com/)\n",
        "\n",
        "2. Пролистываем вниз до подраздела API\n",
        "\n",
        "3. Жмем кнопку Create New API Token, скачиваем файл kaggle.json\n",
        "\n",
        "4. Далее этот файл можно сразу бросить в Files на Google Colab, но так как каждые 12 часов сессия Google Colab полностью обновляется, то я предпочитаю положить в директорию Colab Notebooks на Google Drive\n",
        "\n",
        "\n",
        "(https://www.kaggle.com/general/74235) - инструкция подробнее\n",
        "\n"
      ]
    },
    {
      "cell_type": "code",
      "execution_count": 1,
      "metadata": {
        "id": "IVi4OHTQN5mi"
      },
      "outputs": [],
      "source": [
        "! pip install -q kaggle"
      ]
    },
    {
      "cell_type": "code",
      "execution_count": null,
      "metadata": {
        "colab": {
          "base_uri": "https://localhost:8080/",
          "height": 93
        },
        "id": "Sh0i39WnOE4o",
        "outputId": "9dea71cb-7865-40e3-852d-d0fcfce6d28f"
      },
      "outputs": [
        {
          "data": {
            "text/html": [
              "\n",
              "     <input type=\"file\" id=\"files-b687b247-7936-43b4-bc95-d48770673428\" name=\"files[]\" multiple disabled\n",
              "        style=\"border:none\" />\n",
              "     <output id=\"result-b687b247-7936-43b4-bc95-d48770673428\">\n",
              "      Upload widget is only available when the cell has been executed in the\n",
              "      current browser session. Please rerun this cell to enable.\n",
              "      </output>\n",
              "      <script>// Copyright 2017 Google LLC\n",
              "//\n",
              "// Licensed under the Apache License, Version 2.0 (the \"License\");\n",
              "// you may not use this file except in compliance with the License.\n",
              "// You may obtain a copy of the License at\n",
              "//\n",
              "//      http://www.apache.org/licenses/LICENSE-2.0\n",
              "//\n",
              "// Unless required by applicable law or agreed to in writing, software\n",
              "// distributed under the License is distributed on an \"AS IS\" BASIS,\n",
              "// WITHOUT WARRANTIES OR CONDITIONS OF ANY KIND, either express or implied.\n",
              "// See the License for the specific language governing permissions and\n",
              "// limitations under the License.\n",
              "\n",
              "/**\n",
              " * @fileoverview Helpers for google.colab Python module.\n",
              " */\n",
              "(function(scope) {\n",
              "function span(text, styleAttributes = {}) {\n",
              "  const element = document.createElement('span');\n",
              "  element.textContent = text;\n",
              "  for (const key of Object.keys(styleAttributes)) {\n",
              "    element.style[key] = styleAttributes[key];\n",
              "  }\n",
              "  return element;\n",
              "}\n",
              "\n",
              "// Max number of bytes which will be uploaded at a time.\n",
              "const MAX_PAYLOAD_SIZE = 100 * 1024;\n",
              "\n",
              "function _uploadFiles(inputId, outputId) {\n",
              "  const steps = uploadFilesStep(inputId, outputId);\n",
              "  const outputElement = document.getElementById(outputId);\n",
              "  // Cache steps on the outputElement to make it available for the next call\n",
              "  // to uploadFilesContinue from Python.\n",
              "  outputElement.steps = steps;\n",
              "\n",
              "  return _uploadFilesContinue(outputId);\n",
              "}\n",
              "\n",
              "// This is roughly an async generator (not supported in the browser yet),\n",
              "// where there are multiple asynchronous steps and the Python side is going\n",
              "// to poll for completion of each step.\n",
              "// This uses a Promise to block the python side on completion of each step,\n",
              "// then passes the result of the previous step as the input to the next step.\n",
              "function _uploadFilesContinue(outputId) {\n",
              "  const outputElement = document.getElementById(outputId);\n",
              "  const steps = outputElement.steps;\n",
              "\n",
              "  const next = steps.next(outputElement.lastPromiseValue);\n",
              "  return Promise.resolve(next.value.promise).then((value) => {\n",
              "    // Cache the last promise value to make it available to the next\n",
              "    // step of the generator.\n",
              "    outputElement.lastPromiseValue = value;\n",
              "    return next.value.response;\n",
              "  });\n",
              "}\n",
              "\n",
              "/**\n",
              " * Generator function which is called between each async step of the upload\n",
              " * process.\n",
              " * @param {string} inputId Element ID of the input file picker element.\n",
              " * @param {string} outputId Element ID of the output display.\n",
              " * @return {!Iterable<!Object>} Iterable of next steps.\n",
              " */\n",
              "function* uploadFilesStep(inputId, outputId) {\n",
              "  const inputElement = document.getElementById(inputId);\n",
              "  inputElement.disabled = false;\n",
              "\n",
              "  const outputElement = document.getElementById(outputId);\n",
              "  outputElement.innerHTML = '';\n",
              "\n",
              "  const pickedPromise = new Promise((resolve) => {\n",
              "    inputElement.addEventListener('change', (e) => {\n",
              "      resolve(e.target.files);\n",
              "    });\n",
              "  });\n",
              "\n",
              "  const cancel = document.createElement('button');\n",
              "  inputElement.parentElement.appendChild(cancel);\n",
              "  cancel.textContent = 'Cancel upload';\n",
              "  const cancelPromise = new Promise((resolve) => {\n",
              "    cancel.onclick = () => {\n",
              "      resolve(null);\n",
              "    };\n",
              "  });\n",
              "\n",
              "  // Wait for the user to pick the files.\n",
              "  const files = yield {\n",
              "    promise: Promise.race([pickedPromise, cancelPromise]),\n",
              "    response: {\n",
              "      action: 'starting',\n",
              "    }\n",
              "  };\n",
              "\n",
              "  cancel.remove();\n",
              "\n",
              "  // Disable the input element since further picks are not allowed.\n",
              "  inputElement.disabled = true;\n",
              "\n",
              "  if (!files) {\n",
              "    return {\n",
              "      response: {\n",
              "        action: 'complete',\n",
              "      }\n",
              "    };\n",
              "  }\n",
              "\n",
              "  for (const file of files) {\n",
              "    const li = document.createElement('li');\n",
              "    li.append(span(file.name, {fontWeight: 'bold'}));\n",
              "    li.append(span(\n",
              "        `(${file.type || 'n/a'}) - ${file.size} bytes, ` +\n",
              "        `last modified: ${\n",
              "            file.lastModifiedDate ? file.lastModifiedDate.toLocaleDateString() :\n",
              "                                    'n/a'} - `));\n",
              "    const percent = span('0% done');\n",
              "    li.appendChild(percent);\n",
              "\n",
              "    outputElement.appendChild(li);\n",
              "\n",
              "    const fileDataPromise = new Promise((resolve) => {\n",
              "      const reader = new FileReader();\n",
              "      reader.onload = (e) => {\n",
              "        resolve(e.target.result);\n",
              "      };\n",
              "      reader.readAsArrayBuffer(file);\n",
              "    });\n",
              "    // Wait for the data to be ready.\n",
              "    let fileData = yield {\n",
              "      promise: fileDataPromise,\n",
              "      response: {\n",
              "        action: 'continue',\n",
              "      }\n",
              "    };\n",
              "\n",
              "    // Use a chunked sending to avoid message size limits. See b/62115660.\n",
              "    let position = 0;\n",
              "    do {\n",
              "      const length = Math.min(fileData.byteLength - position, MAX_PAYLOAD_SIZE);\n",
              "      const chunk = new Uint8Array(fileData, position, length);\n",
              "      position += length;\n",
              "\n",
              "      const base64 = btoa(String.fromCharCode.apply(null, chunk));\n",
              "      yield {\n",
              "        response: {\n",
              "          action: 'append',\n",
              "          file: file.name,\n",
              "          data: base64,\n",
              "        },\n",
              "      };\n",
              "\n",
              "      let percentDone = fileData.byteLength === 0 ?\n",
              "          100 :\n",
              "          Math.round((position / fileData.byteLength) * 100);\n",
              "      percent.textContent = `${percentDone}% done`;\n",
              "\n",
              "    } while (position < fileData.byteLength);\n",
              "  }\n",
              "\n",
              "  // All done.\n",
              "  yield {\n",
              "    response: {\n",
              "      action: 'complete',\n",
              "    }\n",
              "  };\n",
              "}\n",
              "\n",
              "scope.google = scope.google || {};\n",
              "scope.google.colab = scope.google.colab || {};\n",
              "scope.google.colab._files = {\n",
              "  _uploadFiles,\n",
              "  _uploadFilesContinue,\n",
              "};\n",
              "})(self);\n",
              "</script> "
            ],
            "text/plain": [
              "<IPython.core.display.HTML object>"
            ]
          },
          "metadata": {},
          "output_type": "display_data"
        },
        {
          "name": "stdout",
          "output_type": "stream",
          "text": [
            "Saving kaggle.json to kaggle.json\n"
          ]
        },
        {
          "data": {
            "text/plain": [
              "{'kaggle.json': b'{\"username\":\"sultan477\",\"key\":\"2b867d93dfb96d6eb0e338736e926cf8\"}'}"
            ]
          },
          "execution_count": 11,
          "metadata": {},
          "output_type": "execute_result"
        }
      ],
      "source": [
        "from google.colab import files\n",
        "\n",
        "files.upload()"
      ]
    },
    {
      "cell_type": "code",
      "execution_count": 2,
      "metadata": {
        "colab": {
          "base_uri": "https://localhost:8080/"
        },
        "id": "uQCCIgsoOb2H",
        "outputId": "0e8d95f0-ef98-46ea-f076-83c64017e183"
      },
      "outputs": [
        {
          "output_type": "stream",
          "name": "stdout",
          "text": [
            "cp: cannot stat 'kaggle.json': No such file or directory\n"
          ]
        }
      ],
      "source": [
        "! mkdir ~/.kaggle\n",
        "\n",
        "! cp kaggle.json ~/.kaggle/"
      ]
    },
    {
      "cell_type": "code",
      "execution_count": 3,
      "metadata": {
        "id": "KOJ_oeMWO1oq",
        "colab": {
          "base_uri": "https://localhost:8080/"
        },
        "outputId": "f21c4e30-8d9d-4502-c6e1-609f090dafb6"
      },
      "outputs": [
        {
          "output_type": "stream",
          "name": "stdout",
          "text": [
            "chmod: cannot access '/root/.kaggle/kaggle.json': No such file or directory\n"
          ]
        }
      ],
      "source": [
        "! chmod 600 ~/.kaggle/kaggle.json"
      ]
    },
    {
      "cell_type": "code",
      "execution_count": 4,
      "metadata": {
        "colab": {
          "base_uri": "https://localhost:8080/"
        },
        "id": "7aN5jk5cO3WJ",
        "outputId": "1c13d862-73b3-4333-d1e7-81acfd67b07c"
      },
      "outputs": [
        {
          "output_type": "stream",
          "name": "stdout",
          "text": [
            "Traceback (most recent call last):\n",
            "  File \"/usr/local/bin/kaggle\", line 5, in <module>\n",
            "    from kaggle.cli import main\n",
            "  File \"/usr/local/lib/python3.10/dist-packages/kaggle/__init__.py\", line 7, in <module>\n",
            "    api.authenticate()\n",
            "  File \"/usr/local/lib/python3.10/dist-packages/kaggle/api/kaggle_api_extended.py\", line 407, in authenticate\n",
            "    raise IOError('Could not find {}. Make sure it\\'s located in'\n",
            "OSError: Could not find kaggle.json. Make sure it's located in /root/.kaggle. Or use the environment method. See setup instructions at https://github.com/Kaggle/kaggle-api/\n"
          ]
        }
      ],
      "source": [
        "! kaggle datasets list"
      ]
    },
    {
      "cell_type": "markdown",
      "metadata": {
        "id": "duT2wuTmUKPn"
      },
      "source": [
        "Попробуем поэкспериментировать с датасетом [Riiid Answer Correctness Prediction](https://www.kaggle.com/competitions/riiid-test-answer-prediction/)\n",
        "\n",
        "Код ниже скачивает датасет, все нужные файлы после этого лежат в папке data.\n",
        "\n"
      ]
    },
    {
      "cell_type": "code",
      "execution_count": 5,
      "metadata": {
        "colab": {
          "base_uri": "https://localhost:8080/"
        },
        "id": "swewkJd7PAqp",
        "outputId": "30c0a4c8-62f7-4873-d2cb-3fbcb0187ec6"
      },
      "outputs": [
        {
          "output_type": "stream",
          "name": "stdout",
          "text": [
            "Drive already mounted at /content/drive; to attempt to forcibly remount, call drive.mount(\"/content/drive\", force_remount=True).\n",
            "mkdir: cannot create directory ‘/root/.kaggle’: File exists\n",
            "Downloading riiid-test-answer-prediction.zip to /content\n",
            "100% 1.29G/1.29G [01:11<00:00, 27.5MB/s]\n",
            "100% 1.29G/1.29G [01:11<00:00, 19.5MB/s]\n",
            "Archive:  riiid-test-answer-prediction.zip\n",
            "  inflating: data/example_sample_submission.csv  \n",
            "  inflating: data/example_test.csv   \n",
            "  inflating: data/lectures.csv       \n",
            "  inflating: data/questions.csv      \n",
            "  inflating: data/riiideducation/__init__.py  \n",
            "  inflating: data/riiideducation/competition.cpython-37m-x86_64-linux-gnu.so  \n",
            "  inflating: data/train.csv          \n"
          ]
        }
      ],
      "source": [
        "! pip install -q kaggle\n",
        "from google.colab import drive\n",
        "drive.mount('/content/drive')\n",
        "! mkdir ~/.kaggle\n",
        "! cp '/content/drive/MyDrive/kaggle.json' ~/.kaggle/ # файл kaggle.json можно положить в любую папку в Drive, главное указать актуальный адрес в первом аргументе команды cp\n",
        "! chmod 600 ~/.kaggle/kaggle.json\n",
        "! kaggle competitions download -c 'riiid-test-answer-prediction'\n",
        "! mkdir data\n",
        "! unzip riiid-test-answer-prediction.zip -d data"
      ]
    },
    {
      "cell_type": "markdown",
      "metadata": {
        "id": "wdST5m3DSx-h"
      },
      "source": [
        "Датасет, скажем так, не огромный, и, возможно, ресурсов вашей машины вполне хватит и для работы с pandas. Поэтому я буду показывать пример на бесплатной версии Google Colab. В бесплатном режиме нам предоставлено не более 12 ГБ оперативной памяти и для нашего учебного случая это как раз то, что нужно.\n",
        "\n",
        "Для начала попробуем проанализировать наш датасет с помощью библиотеки pandas.\n",
        "\n",
        "1. Pandas"
      ]
    },
    {
      "cell_type": "code",
      "execution_count": null,
      "metadata": {
        "id": "pgwBOvv0Us8M"
      },
      "outputs": [],
      "source": [
        "import pandas as pd\n",
        "\n",
        "df_train = pd.read_csv('data/train.csv',\n",
        "                        dtype={'content_id': 'int16',\n",
        "                               'content_type_id': 'int8',\n",
        "                               'task_container_id': 'int16',\n",
        "                               'user_answer': 'int8',\n",
        "                               'answered_correctly': 'int8',\n",
        "                               'prior_question_elapsed_time': 'float32'})"
      ]
    },
    {
      "cell_type": "markdown",
      "metadata": {
        "id": "QyCqxVcGVVGo"
      },
      "source": [
        "Взглянем на наши данные"
      ]
    },
    {
      "cell_type": "code",
      "execution_count": null,
      "metadata": {
        "colab": {
          "base_uri": "https://localhost:8080/",
          "height": 226
        },
        "id": "suDEBIbUVkhZ",
        "outputId": "04c1323b-45ef-4927-9e10-8f03b90b15cc"
      },
      "outputs": [
        {
          "data": {
            "application/vnd.google.colaboratory.intrinsic+json": {
              "type": "dataframe",
              "variable_name": "df_train"
            },
            "text/html": [
              "\n",
              "  <div id=\"df-545db9a5-10b3-42e2-af6e-555c5540703d\" class=\"colab-df-container\">\n",
              "    <div>\n",
              "<style scoped>\n",
              "    .dataframe tbody tr th:only-of-type {\n",
              "        vertical-align: middle;\n",
              "    }\n",
              "\n",
              "    .dataframe tbody tr th {\n",
              "        vertical-align: top;\n",
              "    }\n",
              "\n",
              "    .dataframe thead th {\n",
              "        text-align: right;\n",
              "    }\n",
              "</style>\n",
              "<table border=\"1\" class=\"dataframe\">\n",
              "  <thead>\n",
              "    <tr style=\"text-align: right;\">\n",
              "      <th></th>\n",
              "      <th>row_id</th>\n",
              "      <th>timestamp</th>\n",
              "      <th>user_id</th>\n",
              "      <th>content_id</th>\n",
              "      <th>content_type_id</th>\n",
              "      <th>task_container_id</th>\n",
              "      <th>user_answer</th>\n",
              "      <th>answered_correctly</th>\n",
              "      <th>prior_question_elapsed_time</th>\n",
              "      <th>prior_question_had_explanation</th>\n",
              "    </tr>\n",
              "  </thead>\n",
              "  <tbody>\n",
              "    <tr>\n",
              "      <th>0</th>\n",
              "      <td>0</td>\n",
              "      <td>0</td>\n",
              "      <td>115</td>\n",
              "      <td>5692</td>\n",
              "      <td>0</td>\n",
              "      <td>1</td>\n",
              "      <td>3</td>\n",
              "      <td>1</td>\n",
              "      <td>NaN</td>\n",
              "      <td>NaN</td>\n",
              "    </tr>\n",
              "    <tr>\n",
              "      <th>1</th>\n",
              "      <td>1</td>\n",
              "      <td>56943</td>\n",
              "      <td>115</td>\n",
              "      <td>5716</td>\n",
              "      <td>0</td>\n",
              "      <td>2</td>\n",
              "      <td>2</td>\n",
              "      <td>1</td>\n",
              "      <td>37000.0</td>\n",
              "      <td>False</td>\n",
              "    </tr>\n",
              "    <tr>\n",
              "      <th>2</th>\n",
              "      <td>2</td>\n",
              "      <td>118363</td>\n",
              "      <td>115</td>\n",
              "      <td>128</td>\n",
              "      <td>0</td>\n",
              "      <td>0</td>\n",
              "      <td>0</td>\n",
              "      <td>1</td>\n",
              "      <td>55000.0</td>\n",
              "      <td>False</td>\n",
              "    </tr>\n",
              "    <tr>\n",
              "      <th>3</th>\n",
              "      <td>3</td>\n",
              "      <td>131167</td>\n",
              "      <td>115</td>\n",
              "      <td>7860</td>\n",
              "      <td>0</td>\n",
              "      <td>3</td>\n",
              "      <td>0</td>\n",
              "      <td>1</td>\n",
              "      <td>19000.0</td>\n",
              "      <td>False</td>\n",
              "    </tr>\n",
              "    <tr>\n",
              "      <th>4</th>\n",
              "      <td>4</td>\n",
              "      <td>137965</td>\n",
              "      <td>115</td>\n",
              "      <td>7922</td>\n",
              "      <td>0</td>\n",
              "      <td>4</td>\n",
              "      <td>1</td>\n",
              "      <td>1</td>\n",
              "      <td>11000.0</td>\n",
              "      <td>False</td>\n",
              "    </tr>\n",
              "  </tbody>\n",
              "</table>\n",
              "</div>\n",
              "    <div class=\"colab-df-buttons\">\n",
              "\n",
              "  <div class=\"colab-df-container\">\n",
              "    <button class=\"colab-df-convert\" onclick=\"convertToInteractive('df-545db9a5-10b3-42e2-af6e-555c5540703d')\"\n",
              "            title=\"Convert this dataframe to an interactive table.\"\n",
              "            style=\"display:none;\">\n",
              "\n",
              "  <svg xmlns=\"http://www.w3.org/2000/svg\" height=\"24px\" viewBox=\"0 -960 960 960\">\n",
              "    <path d=\"M120-120v-720h720v720H120Zm60-500h600v-160H180v160Zm220 220h160v-160H400v160Zm0 220h160v-160H400v160ZM180-400h160v-160H180v160Zm440 0h160v-160H620v160ZM180-180h160v-160H180v160Zm440 0h160v-160H620v160Z\"/>\n",
              "  </svg>\n",
              "    </button>\n",
              "\n",
              "  <style>\n",
              "    .colab-df-container {\n",
              "      display:flex;\n",
              "      gap: 12px;\n",
              "    }\n",
              "\n",
              "    .colab-df-convert {\n",
              "      background-color: #E8F0FE;\n",
              "      border: none;\n",
              "      border-radius: 50%;\n",
              "      cursor: pointer;\n",
              "      display: none;\n",
              "      fill: #1967D2;\n",
              "      height: 32px;\n",
              "      padding: 0 0 0 0;\n",
              "      width: 32px;\n",
              "    }\n",
              "\n",
              "    .colab-df-convert:hover {\n",
              "      background-color: #E2EBFA;\n",
              "      box-shadow: 0px 1px 2px rgba(60, 64, 67, 0.3), 0px 1px 3px 1px rgba(60, 64, 67, 0.15);\n",
              "      fill: #174EA6;\n",
              "    }\n",
              "\n",
              "    .colab-df-buttons div {\n",
              "      margin-bottom: 4px;\n",
              "    }\n",
              "\n",
              "    [theme=dark] .colab-df-convert {\n",
              "      background-color: #3B4455;\n",
              "      fill: #D2E3FC;\n",
              "    }\n",
              "\n",
              "    [theme=dark] .colab-df-convert:hover {\n",
              "      background-color: #434B5C;\n",
              "      box-shadow: 0px 1px 3px 1px rgba(0, 0, 0, 0.15);\n",
              "      filter: drop-shadow(0px 1px 2px rgba(0, 0, 0, 0.3));\n",
              "      fill: #FFFFFF;\n",
              "    }\n",
              "  </style>\n",
              "\n",
              "    <script>\n",
              "      const buttonEl =\n",
              "        document.querySelector('#df-545db9a5-10b3-42e2-af6e-555c5540703d button.colab-df-convert');\n",
              "      buttonEl.style.display =\n",
              "        google.colab.kernel.accessAllowed ? 'block' : 'none';\n",
              "\n",
              "      async function convertToInteractive(key) {\n",
              "        const element = document.querySelector('#df-545db9a5-10b3-42e2-af6e-555c5540703d');\n",
              "        const dataTable =\n",
              "          await google.colab.kernel.invokeFunction('convertToInteractive',\n",
              "                                                    [key], {});\n",
              "        if (!dataTable) return;\n",
              "\n",
              "        const docLinkHtml = 'Like what you see? Visit the ' +\n",
              "          '<a target=\"_blank\" href=https://colab.research.google.com/notebooks/data_table.ipynb>data table notebook</a>'\n",
              "          + ' to learn more about interactive tables.';\n",
              "        element.innerHTML = '';\n",
              "        dataTable['output_type'] = 'display_data';\n",
              "        await google.colab.output.renderOutput(dataTable, element);\n",
              "        const docLink = document.createElement('div');\n",
              "        docLink.innerHTML = docLinkHtml;\n",
              "        element.appendChild(docLink);\n",
              "      }\n",
              "    </script>\n",
              "  </div>\n",
              "\n",
              "\n",
              "<div id=\"df-c99bc5ff-7d2e-423c-94a4-6c19462eb636\">\n",
              "  <button class=\"colab-df-quickchart\" onclick=\"quickchart('df-c99bc5ff-7d2e-423c-94a4-6c19462eb636')\"\n",
              "            title=\"Suggest charts\"\n",
              "            style=\"display:none;\">\n",
              "\n",
              "<svg xmlns=\"http://www.w3.org/2000/svg\" height=\"24px\"viewBox=\"0 0 24 24\"\n",
              "     width=\"24px\">\n",
              "    <g>\n",
              "        <path d=\"M19 3H5c-1.1 0-2 .9-2 2v14c0 1.1.9 2 2 2h14c1.1 0 2-.9 2-2V5c0-1.1-.9-2-2-2zM9 17H7v-7h2v7zm4 0h-2V7h2v10zm4 0h-2v-4h2v4z\"/>\n",
              "    </g>\n",
              "</svg>\n",
              "  </button>\n",
              "\n",
              "<style>\n",
              "  .colab-df-quickchart {\n",
              "      --bg-color: #E8F0FE;\n",
              "      --fill-color: #1967D2;\n",
              "      --hover-bg-color: #E2EBFA;\n",
              "      --hover-fill-color: #174EA6;\n",
              "      --disabled-fill-color: #AAA;\n",
              "      --disabled-bg-color: #DDD;\n",
              "  }\n",
              "\n",
              "  [theme=dark] .colab-df-quickchart {\n",
              "      --bg-color: #3B4455;\n",
              "      --fill-color: #D2E3FC;\n",
              "      --hover-bg-color: #434B5C;\n",
              "      --hover-fill-color: #FFFFFF;\n",
              "      --disabled-bg-color: #3B4455;\n",
              "      --disabled-fill-color: #666;\n",
              "  }\n",
              "\n",
              "  .colab-df-quickchart {\n",
              "    background-color: var(--bg-color);\n",
              "    border: none;\n",
              "    border-radius: 50%;\n",
              "    cursor: pointer;\n",
              "    display: none;\n",
              "    fill: var(--fill-color);\n",
              "    height: 32px;\n",
              "    padding: 0;\n",
              "    width: 32px;\n",
              "  }\n",
              "\n",
              "  .colab-df-quickchart:hover {\n",
              "    background-color: var(--hover-bg-color);\n",
              "    box-shadow: 0 1px 2px rgba(60, 64, 67, 0.3), 0 1px 3px 1px rgba(60, 64, 67, 0.15);\n",
              "    fill: var(--button-hover-fill-color);\n",
              "  }\n",
              "\n",
              "  .colab-df-quickchart-complete:disabled,\n",
              "  .colab-df-quickchart-complete:disabled:hover {\n",
              "    background-color: var(--disabled-bg-color);\n",
              "    fill: var(--disabled-fill-color);\n",
              "    box-shadow: none;\n",
              "  }\n",
              "\n",
              "  .colab-df-spinner {\n",
              "    border: 2px solid var(--fill-color);\n",
              "    border-color: transparent;\n",
              "    border-bottom-color: var(--fill-color);\n",
              "    animation:\n",
              "      spin 1s steps(1) infinite;\n",
              "  }\n",
              "\n",
              "  @keyframes spin {\n",
              "    0% {\n",
              "      border-color: transparent;\n",
              "      border-bottom-color: var(--fill-color);\n",
              "      border-left-color: var(--fill-color);\n",
              "    }\n",
              "    20% {\n",
              "      border-color: transparent;\n",
              "      border-left-color: var(--fill-color);\n",
              "      border-top-color: var(--fill-color);\n",
              "    }\n",
              "    30% {\n",
              "      border-color: transparent;\n",
              "      border-left-color: var(--fill-color);\n",
              "      border-top-color: var(--fill-color);\n",
              "      border-right-color: var(--fill-color);\n",
              "    }\n",
              "    40% {\n",
              "      border-color: transparent;\n",
              "      border-right-color: var(--fill-color);\n",
              "      border-top-color: var(--fill-color);\n",
              "    }\n",
              "    60% {\n",
              "      border-color: transparent;\n",
              "      border-right-color: var(--fill-color);\n",
              "    }\n",
              "    80% {\n",
              "      border-color: transparent;\n",
              "      border-right-color: var(--fill-color);\n",
              "      border-bottom-color: var(--fill-color);\n",
              "    }\n",
              "    90% {\n",
              "      border-color: transparent;\n",
              "      border-bottom-color: var(--fill-color);\n",
              "    }\n",
              "  }\n",
              "</style>\n",
              "\n",
              "  <script>\n",
              "    async function quickchart(key) {\n",
              "      const quickchartButtonEl =\n",
              "        document.querySelector('#' + key + ' button');\n",
              "      quickchartButtonEl.disabled = true;  // To prevent multiple clicks.\n",
              "      quickchartButtonEl.classList.add('colab-df-spinner');\n",
              "      try {\n",
              "        const charts = await google.colab.kernel.invokeFunction(\n",
              "            'suggestCharts', [key], {});\n",
              "      } catch (error) {\n",
              "        console.error('Error during call to suggestCharts:', error);\n",
              "      }\n",
              "      quickchartButtonEl.classList.remove('colab-df-spinner');\n",
              "      quickchartButtonEl.classList.add('colab-df-quickchart-complete');\n",
              "    }\n",
              "    (() => {\n",
              "      let quickchartButtonEl =\n",
              "        document.querySelector('#df-c99bc5ff-7d2e-423c-94a4-6c19462eb636 button');\n",
              "      quickchartButtonEl.style.display =\n",
              "        google.colab.kernel.accessAllowed ? 'block' : 'none';\n",
              "    })();\n",
              "  </script>\n",
              "</div>\n",
              "    </div>\n",
              "  </div>\n"
            ],
            "text/plain": [
              "   row_id  timestamp  user_id  content_id  content_type_id  task_container_id  \\\n",
              "0       0          0      115        5692                0                  1   \n",
              "1       1      56943      115        5716                0                  2   \n",
              "2       2     118363      115         128                0                  0   \n",
              "3       3     131167      115        7860                0                  3   \n",
              "4       4     137965      115        7922                0                  4   \n",
              "\n",
              "   user_answer  answered_correctly  prior_question_elapsed_time  \\\n",
              "0            3                   1                          NaN   \n",
              "1            2                   1                      37000.0   \n",
              "2            0                   1                      55000.0   \n",
              "3            0                   1                      19000.0   \n",
              "4            1                   1                      11000.0   \n",
              "\n",
              "  prior_question_had_explanation  \n",
              "0                            NaN  \n",
              "1                          False  \n",
              "2                          False  \n",
              "3                          False  \n",
              "4                          False  "
            ]
          },
          "execution_count": 2,
          "metadata": {},
          "output_type": "execute_result"
        }
      ],
      "source": [
        "df_train.head()"
      ]
    },
    {
      "cell_type": "code",
      "execution_count": null,
      "metadata": {
        "colab": {
          "base_uri": "https://localhost:8080/"
        },
        "id": "YULnWLZcV59l",
        "outputId": "012a0b5d-984c-4827-cc68-4f8a90b0c906"
      },
      "outputs": [
        {
          "name": "stdout",
          "output_type": "stream",
          "text": [
            "<class 'pandas.core.frame.DataFrame'>\n",
            "RangeIndex: 101230332 entries, 0 to 101230331\n",
            "Data columns (total 10 columns):\n",
            " #   Column                          Dtype  \n",
            "---  ------                          -----  \n",
            " 0   row_id                          int64  \n",
            " 1   timestamp                       int64  \n",
            " 2   user_id                         int64  \n",
            " 3   content_id                      int16  \n",
            " 4   content_type_id                 int8   \n",
            " 5   task_container_id               int16  \n",
            " 6   user_answer                     int8   \n",
            " 7   answered_correctly              int8   \n",
            " 8   prior_question_elapsed_time     float32\n",
            " 9   prior_question_had_explanation  object \n",
            "dtypes: float32(1), int16(2), int64(3), int8(3), object(1)\n",
            "memory usage: 4.1+ GB\n"
          ]
        }
      ],
      "source": [
        "df_train.info()"
      ]
    },
    {
      "cell_type": "markdown",
      "metadata": {
        "id": "-yRG3vJoWABb"
      },
      "source": [
        "Как видим, данные нашей таблицы занимают чуть больше 4 ГБ оперативной памяти, что составляет примерно треть памяти, выделенной colab для нас.\n",
        "\n",
        "Посмотрим, сколько в нашей таблице пустых значений."
      ]
    },
    {
      "cell_type": "code",
      "execution_count": null,
      "metadata": {
        "colab": {
          "base_uri": "https://localhost:8080/",
          "height": 397
        },
        "id": "RdvqKkfNWO7r",
        "outputId": "17acfaf1-552c-4b53-92d5-1ed666beca9b"
      },
      "outputs": [
        {
          "data": {
            "text/html": [
              "<table border=\"1\" class=\"dataframe\">\n",
              "  <thead>\n",
              "    <tr style=\"text-align: right;\">\n",
              "      <th></th>\n",
              "      <th>0</th>\n",
              "    </tr>\n",
              "  </thead>\n",
              "  <tbody>\n",
              "    <tr>\n",
              "      <th>row_id</th>\n",
              "      <td>0</td>\n",
              "    </tr>\n",
              "    <tr>\n",
              "      <th>timestamp</th>\n",
              "      <td>0</td>\n",
              "    </tr>\n",
              "    <tr>\n",
              "      <th>user_id</th>\n",
              "      <td>0</td>\n",
              "    </tr>\n",
              "    <tr>\n",
              "      <th>content_id</th>\n",
              "      <td>0</td>\n",
              "    </tr>\n",
              "    <tr>\n",
              "      <th>content_type_id</th>\n",
              "      <td>0</td>\n",
              "    </tr>\n",
              "    <tr>\n",
              "      <th>task_container_id</th>\n",
              "      <td>0</td>\n",
              "    </tr>\n",
              "    <tr>\n",
              "      <th>user_answer</th>\n",
              "      <td>0</td>\n",
              "    </tr>\n",
              "    <tr>\n",
              "      <th>answered_correctly</th>\n",
              "      <td>0</td>\n",
              "    </tr>\n",
              "    <tr>\n",
              "      <th>prior_question_elapsed_time</th>\n",
              "      <td>2351538</td>\n",
              "    </tr>\n",
              "    <tr>\n",
              "      <th>prior_question_had_explanation</th>\n",
              "      <td>392506</td>\n",
              "    </tr>\n",
              "  </tbody>\n",
              "</table><br><label><b>dtype:</b> int64</label>"
            ],
            "text/plain": [
              "row_id                                  0\n",
              "timestamp                               0\n",
              "user_id                                 0\n",
              "content_id                              0\n",
              "content_type_id                         0\n",
              "task_container_id                       0\n",
              "user_answer                             0\n",
              "answered_correctly                      0\n",
              "prior_question_elapsed_time       2351538\n",
              "prior_question_had_explanation     392506\n",
              "dtype: int64"
            ]
          },
          "execution_count": 4,
          "metadata": {},
          "output_type": "execute_result"
        }
      ],
      "source": [
        "df_train.isna().sum()"
      ]
    },
    {
      "cell_type": "code",
      "execution_count": null,
      "metadata": {
        "colab": {
          "base_uri": "https://localhost:8080/",
          "height": 147
        },
        "id": "jrBw7lE5WUt2",
        "outputId": "d29911cc-11bf-4a7b-b985-18145e5cc88c"
      },
      "outputs": [
        {
          "data": {
            "text/html": [
              "<table border=\"1\" class=\"dataframe\">\n",
              "  <thead>\n",
              "    <tr style=\"text-align: right;\">\n",
              "      <th></th>\n",
              "      <th>0</th>\n",
              "    </tr>\n",
              "  </thead>\n",
              "  <tbody>\n",
              "    <tr>\n",
              "      <th>prior_question_elapsed_time</th>\n",
              "      <td>0.023230</td>\n",
              "    </tr>\n",
              "    <tr>\n",
              "      <th>prior_question_had_explanation</th>\n",
              "      <td>0.003877</td>\n",
              "    </tr>\n",
              "  </tbody>\n",
              "</table><br><label><b>dtype:</b> float64</label>"
            ],
            "text/plain": [
              "prior_question_elapsed_time       0.023230\n",
              "prior_question_had_explanation    0.003877\n",
              "dtype: float64"
            ]
          },
          "execution_count": 5,
          "metadata": {},
          "output_type": "execute_result"
        }
      ],
      "source": [
        "df_train[['prior_question_elapsed_time', 'prior_question_had_explanation']].isna().mean()"
      ]
    },
    {
      "cell_type": "markdown",
      "metadata": {
        "id": "q1_2bFnLWq5h"
      },
      "source": [
        "Имеем: в столбце prior_question_elapsed_time всего чуть более 2% пропусков, в prior_question_had_explanation и того меньше. Пробуем удалить их методом dropna библиотеки pandas и..."
      ]
    },
    {
      "cell_type": "code",
      "execution_count": null,
      "metadata": {
        "id": "SCS9ZYKWXAzv"
      },
      "outputs": [],
      "source": [
        "df = df_train.dropna()"
      ]
    },
    {
      "cell_type": "markdown",
      "metadata": {
        "id": "3b0-ja-hXHgq"
      },
      "source": [
        "... получаем ошибку нехватки оперативной памяти."
      ]
    },
    {
      "cell_type": "markdown",
      "metadata": {
        "id": "WKhH_8V3XU9G"
      },
      "source": [
        "Примечание. На самом деле, получить данную ошибку мы могли в самом начале, при чтении датасете. Для этого достаточно было бы применить метод read_csv с аргументами по-умолчанию. Тогда pandas присвоил бы каждому столбцу с числовыми данными либо тип int64, либо тип float64. А памяти они занимают немало...\n",
        "\n",
        "Там, где не справился pandas, прибегнем к помощи pyspark.\n",
        "\n"
      ]
    },
    {
      "cell_type": "markdown",
      "metadata": {
        "id": "RHfVMDbLXZ5F"
      },
      "source": [
        "2. Pyspark\n",
        "Установим pyspark и pyarrow. Pyarrow значительно ускоряет работу pyspark, что в нашем случае очень пригодится"
      ]
    },
    {
      "cell_type": "code",
      "execution_count": 6,
      "metadata": {
        "colab": {
          "base_uri": "https://localhost:8080/"
        },
        "id": "uGYkAxR3XfB6",
        "outputId": "88f886b6-1e40-42c1-e414-4bb548549b2a"
      },
      "outputs": [
        {
          "output_type": "stream",
          "name": "stdout",
          "text": [
            "Collecting pyspark\n",
            "  Downloading pyspark-3.5.1.tar.gz (317.0 MB)\n",
            "\u001b[2K     \u001b[90m━━━━━━━━━━━━━━━━━━━━━━━━━━━━━━━━━━━━━━━━\u001b[0m \u001b[32m317.0/317.0 MB\u001b[0m \u001b[31m3.1 MB/s\u001b[0m eta \u001b[36m0:00:00\u001b[0m\n",
            "\u001b[?25h  Preparing metadata (setup.py) ... \u001b[?25l\u001b[?25hdone\n",
            "Requirement already satisfied: py4j==0.10.9.7 in /usr/local/lib/python3.10/dist-packages (from pyspark) (0.10.9.7)\n",
            "Building wheels for collected packages: pyspark\n",
            "  Building wheel for pyspark (setup.py) ... \u001b[?25l\u001b[?25hdone\n",
            "  Created wheel for pyspark: filename=pyspark-3.5.1-py2.py3-none-any.whl size=317488490 sha256=8523872169796eac9f479a292180ea13a4ea9260d072bc9d4910997b921e9b5e\n",
            "  Stored in directory: /root/.cache/pip/wheels/80/1d/60/2c256ed38dddce2fdd93be545214a63e02fbd8d74fb0b7f3a6\n",
            "Successfully built pyspark\n",
            "Installing collected packages: pyspark\n",
            "Successfully installed pyspark-3.5.1\n",
            "Requirement already satisfied: pyarrow in /usr/local/lib/python3.10/dist-packages (14.0.2)\n",
            "Requirement already satisfied: numpy>=1.16.6 in /usr/local/lib/python3.10/dist-packages (from pyarrow) (1.26.4)\n"
          ]
        }
      ],
      "source": [
        "! pip install pyspark\n",
        "! pip install pyarrow"
      ]
    },
    {
      "cell_type": "code",
      "execution_count": 7,
      "metadata": {
        "colab": {
          "base_uri": "https://localhost:8080/",
          "height": 223
        },
        "id": "csh9VATgXos0",
        "outputId": "68e9b0ac-c676-4a28-92bd-ef5793780e2d"
      },
      "outputs": [
        {
          "output_type": "execute_result",
          "data": {
            "text/plain": [
              "<pyspark.sql.session.SparkSession at 0x7d02e576b430>"
            ],
            "text/html": [
              "\n",
              "            <div>\n",
              "                <p><b>SparkSession - in-memory</b></p>\n",
              "                \n",
              "        <div>\n",
              "            <p><b>SparkContext</b></p>\n",
              "\n",
              "            <p><a href=\"http://02acb487edc6:4040\">Spark UI</a></p>\n",
              "\n",
              "            <dl>\n",
              "              <dt>Version</dt>\n",
              "                <dd><code>v3.5.1</code></dd>\n",
              "              <dt>Master</dt>\n",
              "                <dd><code>local[*]</code></dd>\n",
              "              <dt>AppName</dt>\n",
              "                <dd><code>pyspark-shell</code></dd>\n",
              "            </dl>\n",
              "        </div>\n",
              "        \n",
              "            </div>\n",
              "        "
            ]
          },
          "metadata": {},
          "execution_count": 7
        }
      ],
      "source": [
        "from pyspark.sql import SparkSession\n",
        "import os\n",
        "os.environ[\"PYARROW_IGNORE_TIMEZONE\"] = \"1\" # без этой строчки у нас будет возникать постоянное предупреждение с просьбой установить эту переменную в значение 1, что мы заранее и делаем\n",
        "\n",
        "\n",
        "spark = SparkSession.builder.getOrCreate()\n",
        "spark.conf.set(\"spark.sql.execution.arrow.pyspark.enabled\", \"true\")\n",
        "spark"
      ]
    },
    {
      "cell_type": "markdown",
      "metadata": {
        "id": "-QyfjhIvYJ_v"
      },
      "source": [
        "Давайте прочтем наш файл и посмотрим, какие колонки присутствуют в нашей таблице. Если мы уверены, что у нас в каждой колонке присутствует один конкретный тип данных, можно установить параметр inferSchema=True, pyspark самостоятельно определит типы для каждой колонки."
      ]
    },
    {
      "cell_type": "code",
      "execution_count": 8,
      "metadata": {
        "colab": {
          "base_uri": "https://localhost:8080/"
        },
        "id": "5HVl1LqPaC-U",
        "outputId": "55986b62-32db-4910-b2b7-2c12b57e9c4e"
      },
      "outputs": [
        {
          "output_type": "stream",
          "name": "stdout",
          "text": [
            "root\n",
            " |-- row_id: integer (nullable = true)\n",
            " |-- timestamp: long (nullable = true)\n",
            " |-- user_id: integer (nullable = true)\n",
            " |-- content_id: integer (nullable = true)\n",
            " |-- content_type_id: integer (nullable = true)\n",
            " |-- task_container_id: integer (nullable = true)\n",
            " |-- user_answer: integer (nullable = true)\n",
            " |-- answered_correctly: integer (nullable = true)\n",
            " |-- prior_question_elapsed_time: double (nullable = true)\n",
            " |-- prior_question_had_explanation: boolean (nullable = true)\n",
            "\n"
          ]
        }
      ],
      "source": [
        "df = spark.read.csv('data/train.csv', header=True, inferSchema=True)\n",
        "\n",
        "df.printSchema()"
      ]
    },
    {
      "cell_type": "markdown",
      "metadata": {
        "id": "uGfaD-s6aJJZ"
      },
      "source": [
        "Для просмотра данных в pyspark есть метод show"
      ]
    },
    {
      "cell_type": "code",
      "execution_count": 9,
      "metadata": {
        "colab": {
          "base_uri": "https://localhost:8080/"
        },
        "id": "NKNbWO67cOAE",
        "outputId": "1f69cec9-ae28-4de4-904a-2f7df1929762"
      },
      "outputs": [
        {
          "output_type": "stream",
          "name": "stdout",
          "text": [
            "+------+---------+-------+----------+---------------+-----------------+-----------+------------------+---------------------------+------------------------------+\n",
            "|row_id|timestamp|user_id|content_id|content_type_id|task_container_id|user_answer|answered_correctly|prior_question_elapsed_time|prior_question_had_explanation|\n",
            "+------+---------+-------+----------+---------------+-----------------+-----------+------------------+---------------------------+------------------------------+\n",
            "|     0|        0|    115|      5692|              0|                1|          3|                 1|                       NULL|                          NULL|\n",
            "|     1|    56943|    115|      5716|              0|                2|          2|                 1|                    37000.0|                         false|\n",
            "|     2|   118363|    115|       128|              0|                0|          0|                 1|                    55000.0|                         false|\n",
            "|     3|   131167|    115|      7860|              0|                3|          0|                 1|                    19000.0|                         false|\n",
            "|     4|   137965|    115|      7922|              0|                4|          1|                 1|                    11000.0|                         false|\n",
            "|     5|   157063|    115|       156|              0|                5|          2|                 1|                     5000.0|                         false|\n",
            "|     6|   176092|    115|        51|              0|                6|          0|                 1|                    17000.0|                         false|\n",
            "|     7|   194190|    115|        50|              0|                7|          3|                 1|                    17000.0|                         false|\n",
            "|     8|   212463|    115|      7896|              0|                8|          2|                 1|                    16000.0|                         false|\n",
            "|     9|   230983|    115|      7863|              0|                9|          0|                 1|                    16000.0|                         false|\n",
            "|    10|   255381|    115|       152|              0|               10|          2|                 0|                    17000.0|                         false|\n",
            "|    11|   280033|    115|       104|              0|               11|          1|                 0|                    22000.0|                         false|\n",
            "|    12|   302994|    115|       108|              0|               12|          1|                 0|                    23000.0|                         false|\n",
            "|    13|   328686|    115|      7900|              0|               13|          0|                 1|                    21000.0|                         false|\n",
            "|    14|   352686|    115|      7901|              0|               14|          1|                 1|                    24000.0|                         false|\n",
            "|    15|   376162|    115|      7971|              0|               15|          2|                 1|                    22000.0|                         false|\n",
            "|    16|   398020|    115|        25|              0|               16|          1|                 1|                    21000.0|                         false|\n",
            "|    17|   418008|    115|       183|              0|               17|          0|                 0|                    20000.0|                         false|\n",
            "|    18|   437272|    115|      7926|              0|               18|          1|                 1|                    18000.0|                         false|\n",
            "|    19|   468511|    115|      7927|              0|               19|          3|                 1|                    17000.0|                         false|\n",
            "+------+---------+-------+----------+---------------+-----------------+-----------+------------------+---------------------------+------------------------------+\n",
            "only showing top 20 rows\n",
            "\n"
          ]
        }
      ],
      "source": [
        "df.show()"
      ]
    },
    {
      "cell_type": "markdown",
      "metadata": {
        "id": "v-wga0qDcRG9"
      },
      "source": [
        "Прежде, чем заниматься пропусками, необходимо привести данные столбца prior_question_had_explanation к целочисленному типу"
      ]
    },
    {
      "cell_type": "code",
      "execution_count": 10,
      "metadata": {
        "colab": {
          "base_uri": "https://localhost:8080/"
        },
        "id": "ODhPKa8TcdvZ",
        "outputId": "bab8cd93-060b-417e-be43-da2c2865f773"
      },
      "outputs": [
        {
          "output_type": "stream",
          "name": "stdout",
          "text": [
            "root\n",
            " |-- row_id: integer (nullable = true)\n",
            " |-- timestamp: long (nullable = true)\n",
            " |-- user_id: integer (nullable = true)\n",
            " |-- content_id: integer (nullable = true)\n",
            " |-- content_type_id: integer (nullable = true)\n",
            " |-- task_container_id: integer (nullable = true)\n",
            " |-- user_answer: integer (nullable = true)\n",
            " |-- answered_correctly: integer (nullable = true)\n",
            " |-- prior_question_elapsed_time: double (nullable = true)\n",
            " |-- prior_question_had_explanation: integer (nullable = true)\n",
            "\n"
          ]
        }
      ],
      "source": [
        "from pyspark.sql.types import IntegerType\n",
        "\n",
        "df = df.withColumn('prior_question_had_explanation', df['prior_question_had_explanation'].cast(IntegerType()))\n",
        "df.printSchema()"
      ]
    },
    {
      "cell_type": "markdown",
      "metadata": {
        "id": "ypv71mbfciTc"
      },
      "source": [
        "Посмотрим, сколько в нашей таблице пустых значений. Метод pandas_api преобразует существующий DataFrame в pandas-on-Spark DataFrame (это доступно только в том случае, если pandas установлен и доступен)."
      ]
    },
    {
      "cell_type": "code",
      "execution_count": 11,
      "metadata": {
        "colab": {
          "base_uri": "https://localhost:8080/"
        },
        "id": "EeEl6kIEdJ3N",
        "outputId": "6c101453-2607-49d3-e23f-4957f46b41a6"
      },
      "outputs": [
        {
          "output_type": "execute_result",
          "data": {
            "text/plain": [
              "row_id                            0.000000\n",
              "timestamp                         0.000000\n",
              "user_id                           0.000000\n",
              "content_id                        0.000000\n",
              "content_type_id                   0.000000\n",
              "task_container_id                 0.000000\n",
              "user_answer                       0.000000\n",
              "answered_correctly                0.000000\n",
              "prior_question_elapsed_time       0.023230\n",
              "prior_question_had_explanation    0.003877\n",
              "dtype: float64"
            ]
          },
          "metadata": {},
          "execution_count": 11
        }
      ],
      "source": [
        "df.pandas_api().isna().mean() # выведем процентное соотношение"
      ]
    },
    {
      "cell_type": "markdown",
      "metadata": {
        "id": "Fa3Kw8zHdR2p"
      },
      "source": [
        "На этот раз удалить пропущенные данные удается без проблем.\n",
        "\n"
      ]
    },
    {
      "cell_type": "code",
      "execution_count": 12,
      "metadata": {
        "colab": {
          "base_uri": "https://localhost:8080/"
        },
        "id": "Z60QXR-yeR0d",
        "outputId": "45d196fa-89ac-4cf9-ac1c-cc881abbd677"
      },
      "outputs": [
        {
          "output_type": "execute_result",
          "data": {
            "text/plain": [
              "row_id                            0\n",
              "timestamp                         0\n",
              "user_id                           0\n",
              "content_id                        0\n",
              "content_type_id                   0\n",
              "task_container_id                 0\n",
              "user_answer                       0\n",
              "answered_correctly                0\n",
              "prior_question_elapsed_time       0\n",
              "prior_question_had_explanation    0\n",
              "dtype: int64"
            ]
          },
          "metadata": {},
          "execution_count": 12
        }
      ],
      "source": [
        "df = df.dropna()\n",
        "df.pandas_api().isna().sum()"
      ]
    },
    {
      "cell_type": "markdown",
      "metadata": {
        "id": "IMTYPQ3IepmM"
      },
      "source": [
        "Теперь рассмотрим как с помощью pyspark можно вывести на экран матрицу корреляции.\n",
        "\n",
        "Матрица корреляции.\n",
        "Метод corr класса Correlation работает только с векторными столбцами. Поэтому прежде создания корреляционной матрицы необходимо применить преобразование датасета с помощью [VectorAssembler](https://spark.apache.org/docs/3.1.3/api/python/reference/api/pyspark.ml.feature.VectorAssembler.html)\n",
        "\n",
        "> Из [документации](https://spark.apache.org/docs/latest/api/python/reference/api/pyspark.ml.stat.Correlation.html): column - имя столбца векторов, для которого необходимо вычислить коэффициент корреляции. Это должен быть столбец набора данных, и он должен содержать <u> объекты Vector</u>.\n",
        "\n"
      ]
    },
    {
      "cell_type": "code",
      "execution_count": 13,
      "metadata": {
        "id": "ZS3GPn2ngE85"
      },
      "outputs": [],
      "source": [
        "from pyspark.ml.stat import Correlation\n",
        "from pyspark.ml.feature import VectorAssembler\n",
        "import pandas as pd\n",
        "\n",
        "# сначала преобразуем данные в объект типа Vector\n",
        "vector_col = \"corr_features\"\n",
        "assembler = VectorAssembler(inputCols=df.columns, outputCol=vector_col)\n",
        "df_vector = assembler.transform(df).select(vector_col)\n",
        "\n",
        "# получаем матрицу корреляции\n",
        "matrix = Correlation.corr(df_vector, vector_col).head()[0]\n",
        "\n",
        "# преобразуем данные в numpy вектор\n",
        "corr_matrix = matrix.toArray()\n",
        "\n",
        "# создаем DataFrame с корреляционной матрицей\n",
        "corr_matrix_df = pd.DataFrame(data=corr_matrix, columns=df.columns, index=df.columns)\n",
        "\n",
        "\n"
      ]
    },
    {
      "cell_type": "markdown",
      "metadata": {
        "id": "oi6hTcikjCFh"
      },
      "source": [
        "Выводим корреляционную матрицу на экран"
      ]
    },
    {
      "cell_type": "code",
      "execution_count": 14,
      "metadata": {
        "colab": {
          "base_uri": "https://localhost:8080/",
          "height": 731
        },
        "id": "aIq0iDsUjD9V",
        "outputId": "a68b05e6-4707-429a-8ff8-5d674a7b6d30"
      },
      "outputs": [
        {
          "output_type": "stream",
          "name": "stderr",
          "text": [
            "<ipython-input-14-e9fb62c0caa0>:3: MatplotlibDeprecationWarning: The seaborn styles shipped by Matplotlib are deprecated since 3.6, as they no longer correspond to the styles shipped by seaborn. However, they will remain available as 'seaborn-v0_8-<style>'. Alternatively, directly use the seaborn API instead.\n",
            "  plt.style.use('seaborn')\n"
          ]
        },
        {
          "output_type": "display_data",
          "data": {
            "text/plain": [
              "<Figure size 800x550 with 2 Axes>"
            ],
            "image/png": "[encoded data removed]"
          },
          "metadata": {}
        }
      ],
      "source": [
        "import seaborn as sns\n",
        "import matplotlib.pyplot as plt\n",
        "plt.style.use('seaborn')\n",
        "\n",
        "sns.heatmap(corr_matrix_df,\n",
        "            xticklabels=corr_matrix_df.columns.values,\n",
        "            yticklabels=corr_matrix_df.columns.values, cmap='Greens', annot=True)\n",
        "plt.show()"
      ]
    },
    {
      "cell_type": "markdown",
      "source": [
        "Как видите, pyspark позволил справиться с объемом данных, для которого всеми любимого pandas оказалось уже недостаточно. Причем синтаксис pyspark местами очень схож с pandas. А там, где методов чистого pyspark не хватает, на помощь приходит метод pandas_api\n",
        "\n"
      ],
      "metadata": {
        "id": "-4492movjE0X"
      }
    },
    {
      "cell_type": "markdown",
      "source": [
        "## Различные методы инспекции данных\n",
        "Существуют следующие методы инспекции данных: schema, dtypes, show, head, first, take, describe, columns, count, distinct, printSchema. Давайте разберемся в них на примере."
      ],
      "metadata": {
        "id": "JfTQmQDj46xj"
      }
    },
    {
      "cell_type": "markdown",
      "source": [
        "* `dtypes` возвращает список кортежей с именами столбцов и типами данных."
      ],
      "metadata": {
        "id": "WqpruguR5iwW"
      }
    },
    {
      "cell_type": "code",
      "source": [
        "df.dtypes"
      ],
      "metadata": {
        "colab": {
          "base_uri": "https://localhost:8080/"
        },
        "id": "uB-21wkU6FRg",
        "outputId": "45bfec54-59c2-4e80-a5a7-5845bc9d5fde"
      },
      "execution_count": 15,
      "outputs": [
        {
          "output_type": "execute_result",
          "data": {
            "text/plain": [
              "[('row_id', 'int'),\n",
              " ('timestamp', 'bigint'),\n",
              " ('user_id', 'int'),\n",
              " ('content_id', 'int'),\n",
              " ('content_type_id', 'int'),\n",
              " ('task_container_id', 'int'),\n",
              " ('user_answer', 'int'),\n",
              " ('answered_correctly', 'int'),\n",
              " ('prior_question_elapsed_time', 'double'),\n",
              " ('prior_question_had_explanation', 'int')]"
            ]
          },
          "metadata": {},
          "execution_count": 15
        }
      ]
    },
    {
      "cell_type": "markdown",
      "source": [
        "* `head(n)` возвращает n строк в виде списка. Вот пример:"
      ],
      "metadata": {
        "id": "Ne0aKvvR6LJr"
      }
    },
    {
      "cell_type": "code",
      "source": [
        "df.head(5)"
      ],
      "metadata": {
        "colab": {
          "base_uri": "https://localhost:8080/"
        },
        "id": "S4f-kYWm6VSc",
        "outputId": "b5f5c2b7-b2f5-4d3b-a663-5f9f7218ef12"
      },
      "execution_count": 16,
      "outputs": [
        {
          "output_type": "execute_result",
          "data": {
            "text/plain": [
              "[Row(row_id=1, timestamp=56943, user_id=115, content_id=5716, content_type_id=0, task_container_id=2, user_answer=2, answered_correctly=1, prior_question_elapsed_time=37000.0, prior_question_had_explanation=0),\n",
              " Row(row_id=2, timestamp=118363, user_id=115, content_id=128, content_type_id=0, task_container_id=0, user_answer=0, answered_correctly=1, prior_question_elapsed_time=55000.0, prior_question_had_explanation=0),\n",
              " Row(row_id=3, timestamp=131167, user_id=115, content_id=7860, content_type_id=0, task_container_id=3, user_answer=0, answered_correctly=1, prior_question_elapsed_time=19000.0, prior_question_had_explanation=0),\n",
              " Row(row_id=4, timestamp=137965, user_id=115, content_id=7922, content_type_id=0, task_container_id=4, user_answer=1, answered_correctly=1, prior_question_elapsed_time=11000.0, prior_question_had_explanation=0),\n",
              " Row(row_id=5, timestamp=157063, user_id=115, content_id=156, content_type_id=0, task_container_id=5, user_answer=2, answered_correctly=1, prior_question_elapsed_time=5000.0, prior_question_had_explanation=0)]"
            ]
          },
          "metadata": {},
          "execution_count": 16
        }
      ]
    },
    {
      "cell_type": "markdown",
      "source": [
        "* `show()` по умолчанию отображает первые 20 строк, а также принимает число в качестве параметра для выбора их количества.\n",
        "* `first()` возвращает первую строку данных."
      ],
      "metadata": {
        "id": "vs8GOuHD6YNr"
      }
    },
    {
      "cell_type": "code",
      "source": [
        "df.show()\n",
        "df.first()"
      ],
      "metadata": {
        "colab": {
          "base_uri": "https://localhost:8080/"
        },
        "id": "xHZdlV-p6nHn",
        "outputId": "b453cb9b-abdb-4ddc-ac22-ddc61e332d50"
      },
      "execution_count": 18,
      "outputs": [
        {
          "output_type": "stream",
          "name": "stdout",
          "text": [
            "+------+---------+-------+----------+---------------+-----------------+-----------+------------------+---------------------------+------------------------------+\n",
            "|row_id|timestamp|user_id|content_id|content_type_id|task_container_id|user_answer|answered_correctly|prior_question_elapsed_time|prior_question_had_explanation|\n",
            "+------+---------+-------+----------+---------------+-----------------+-----------+------------------+---------------------------+------------------------------+\n",
            "|     1|    56943|    115|      5716|              0|                2|          2|                 1|                    37000.0|                             0|\n",
            "|     2|   118363|    115|       128|              0|                0|          0|                 1|                    55000.0|                             0|\n",
            "|     3|   131167|    115|      7860|              0|                3|          0|                 1|                    19000.0|                             0|\n",
            "|     4|   137965|    115|      7922|              0|                4|          1|                 1|                    11000.0|                             0|\n",
            "|     5|   157063|    115|       156|              0|                5|          2|                 1|                     5000.0|                             0|\n",
            "|     6|   176092|    115|        51|              0|                6|          0|                 1|                    17000.0|                             0|\n",
            "|     7|   194190|    115|        50|              0|                7|          3|                 1|                    17000.0|                             0|\n",
            "|     8|   212463|    115|      7896|              0|                8|          2|                 1|                    16000.0|                             0|\n",
            "|     9|   230983|    115|      7863|              0|                9|          0|                 1|                    16000.0|                             0|\n",
            "|    10|   255381|    115|       152|              0|               10|          2|                 0|                    17000.0|                             0|\n",
            "|    11|   280033|    115|       104|              0|               11|          1|                 0|                    22000.0|                             0|\n",
            "|    12|   302994|    115|       108|              0|               12|          1|                 0|                    23000.0|                             0|\n",
            "|    13|   328686|    115|      7900|              0|               13|          0|                 1|                    21000.0|                             0|\n",
            "|    14|   352686|    115|      7901|              0|               14|          1|                 1|                    24000.0|                             0|\n",
            "|    15|   376162|    115|      7971|              0|               15|          2|                 1|                    22000.0|                             0|\n",
            "|    16|   398020|    115|        25|              0|               16|          1|                 1|                    21000.0|                             0|\n",
            "|    17|   418008|    115|       183|              0|               17|          0|                 0|                    20000.0|                             0|\n",
            "|    18|   437272|    115|      7926|              0|               18|          1|                 1|                    18000.0|                             0|\n",
            "|    19|   468511|    115|      7927|              0|               19|          3|                 1|                    17000.0|                             0|\n",
            "|    20|   490100|    115|         4|              0|               20|          1|                 0|                    29000.0|                             0|\n",
            "+------+---------+-------+----------+---------------+-----------------+-----------+------------------+---------------------------+------------------------------+\n",
            "only showing top 20 rows\n",
            "\n"
          ]
        },
        {
          "output_type": "execute_result",
          "data": {
            "text/plain": [
              "Row(row_id=1, timestamp=56943, user_id=115, content_id=5716, content_type_id=0, task_container_id=2, user_answer=2, answered_correctly=1, prior_question_elapsed_time=37000.0, prior_question_had_explanation=0)"
            ]
          },
          "metadata": {},
          "execution_count": 18
        }
      ]
    },
    {
      "cell_type": "markdown",
      "source": [
        "* `take(n)` возвращает первые n строк.\n",
        "* `describe()` вычисляет некоторые статистические значения для столбцов с числовым типом данных.\n",
        "* `columns` возвращает список, содержащий названия столбцов."
      ],
      "metadata": {
        "id": "CuIH3NdE6o7-"
      }
    },
    {
      "cell_type": "code",
      "source": [
        "df.describe()"
      ],
      "metadata": {
        "colab": {
          "base_uri": "https://localhost:8080/"
        },
        "id": "AEv91Vbi7ABc",
        "outputId": "7802cd64-0f33-4f9d-c7e8-053dd22a1a82"
      },
      "execution_count": 22,
      "outputs": [
        {
          "output_type": "execute_result",
          "data": {
            "text/plain": [
              "DataFrame[summary: string, row_id: string, timestamp: string, user_id: string, content_id: string, content_type_id: string, task_container_id: string, user_answer: string, answered_correctly: string, prior_question_elapsed_time: string, prior_question_had_explanation: string]"
            ]
          },
          "metadata": {},
          "execution_count": 22
        }
      ]
    },
    {
      "cell_type": "code",
      "source": [
        "df.columns"
      ],
      "metadata": {
        "colab": {
          "base_uri": "https://localhost:8080/"
        },
        "id": "07lmyuxk7G10",
        "outputId": "ead75825-7960-40e5-a405-a71bf51a575b"
      },
      "execution_count": 20,
      "outputs": [
        {
          "output_type": "execute_result",
          "data": {
            "text/plain": [
              "['row_id',\n",
              " 'timestamp',\n",
              " 'user_id',\n",
              " 'content_id',\n",
              " 'content_type_id',\n",
              " 'task_container_id',\n",
              " 'user_answer',\n",
              " 'answered_correctly',\n",
              " 'prior_question_elapsed_time',\n",
              " 'prior_question_had_explanation']"
            ]
          },
          "metadata": {},
          "execution_count": 20
        }
      ]
    },
    {
      "cell_type": "markdown",
      "source": [
        "* `count()` возвращает общее число строк в датасете."
      ],
      "metadata": {
        "id": "P1Am-fsT7OGr"
      }
    },
    {
      "cell_type": "code",
      "source": [
        "df.count()"
      ],
      "metadata": {
        "colab": {
          "base_uri": "https://localhost:8080/"
        },
        "id": "3KUW-IM97fPP",
        "outputId": "48ecf0c7-c335-4270-f866-d8d1724f818d"
      },
      "execution_count": 23,
      "outputs": [
        {
          "output_type": "execute_result",
          "data": {
            "text/plain": [
              "98878794"
            ]
          },
          "metadata": {},
          "execution_count": 23
        }
      ]
    },
    {
      "cell_type": "markdown",
      "source": [
        "* `distinct()` — количество различных строк в используемом наборе данных."
      ],
      "metadata": {
        "id": "Afh7mjVP7g7v"
      }
    },
    {
      "cell_type": "code",
      "source": [
        "df.distinct()"
      ],
      "metadata": {
        "colab": {
          "base_uri": "https://localhost:8080/"
        },
        "id": "JRbHUiHg7-kQ",
        "outputId": "88293abe-90e5-44cc-9803-26d509632900"
      },
      "execution_count": 24,
      "outputs": [
        {
          "output_type": "execute_result",
          "data": {
            "text/plain": [
              "DataFrame[row_id: int, timestamp: bigint, user_id: int, content_id: int, content_type_id: int, task_container_id: int, user_answer: int, answered_correctly: int, prior_question_elapsed_time: double, prior_question_had_explanation: int]"
            ]
          },
          "metadata": {},
          "execution_count": 24
        }
      ]
    },
    {
      "cell_type": "markdown",
      "source": [
        "## Манипуляции со столбцами\n",
        "Давайте посмотрим, какие методы используются для добавления, обновления и удаления столбцов данных.\n",
        "\n",
        "1. Добавление столбца: используйте withColumn, чтобы добавить новый столбец к существующим. Метод принимает два параметра: имя столбца и данные. Пример:"
      ],
      "metadata": {
        "id": "HQKoElRg9O_H"
      }
    },
    {
      "cell_type": "code",
      "source": [
        "df = df.withColumn('date', df.timestamp)\n",
        "df.show(5)"
      ],
      "metadata": {
        "colab": {
          "base_uri": "https://localhost:8080/"
        },
        "id": "Tlf0ud4P9UEz",
        "outputId": "5a88e052-9d77-4e61-a40d-bb18c16df332"
      },
      "execution_count": 26,
      "outputs": [
        {
          "output_type": "stream",
          "name": "stdout",
          "text": [
            "+------+---------+-------+----------+---------------+-----------------+-----------+------------------+---------------------------+------------------------------+------+\n",
            "|row_id|timestamp|user_id|content_id|content_type_id|task_container_id|user_answer|answered_correctly|prior_question_elapsed_time|prior_question_had_explanation|  date|\n",
            "+------+---------+-------+----------+---------------+-----------------+-----------+------------------+---------------------------+------------------------------+------+\n",
            "|     1|    56943|    115|      5716|              0|                2|          2|                 1|                    37000.0|                             0| 56943|\n",
            "|     2|   118363|    115|       128|              0|                0|          0|                 1|                    55000.0|                             0|118363|\n",
            "|     3|   131167|    115|      7860|              0|                3|          0|                 1|                    19000.0|                             0|131167|\n",
            "|     4|   137965|    115|      7922|              0|                4|          1|                 1|                    11000.0|                             0|137965|\n",
            "|     5|   157063|    115|       156|              0|                5|          2|                 1|                     5000.0|                             0|157063|\n",
            "+------+---------+-------+----------+---------------+-----------------+-----------+------------------+---------------------------+------------------------------+------+\n",
            "only showing top 5 rows\n",
            "\n"
          ]
        }
      ]
    },
    {
      "cell_type": "markdown",
      "source": [
        "2. Обновление столбца: используйте withColumnRenamed, чтобы переименовать существующий столбец. Метод принимает два параметра: название существующего столбца и его новое имя. Пример:"
      ],
      "metadata": {
        "id": "MOaaQU1x-D7B"
      }
    },
    {
      "cell_type": "code",
      "source": [
        "df = df.withColumnRenamed('date', 'data_changed')\n",
        "df.show()"
      ],
      "metadata": {
        "colab": {
          "base_uri": "https://localhost:8080/"
        },
        "id": "a3-cPRgr-Kv8",
        "outputId": "fe6f2010-b3b7-4eea-eb5a-06dd124a4148"
      },
      "execution_count": 27,
      "outputs": [
        {
          "output_type": "stream",
          "name": "stdout",
          "text": [
            "+------+---------+-------+----------+---------------+-----------------+-----------+------------------+---------------------------+------------------------------+------------+\n",
            "|row_id|timestamp|user_id|content_id|content_type_id|task_container_id|user_answer|answered_correctly|prior_question_elapsed_time|prior_question_had_explanation|data_changed|\n",
            "+------+---------+-------+----------+---------------+-----------------+-----------+------------------+---------------------------+------------------------------+------------+\n",
            "|     1|    56943|    115|      5716|              0|                2|          2|                 1|                    37000.0|                             0|       56943|\n",
            "|     2|   118363|    115|       128|              0|                0|          0|                 1|                    55000.0|                             0|      118363|\n",
            "|     3|   131167|    115|      7860|              0|                3|          0|                 1|                    19000.0|                             0|      131167|\n",
            "|     4|   137965|    115|      7922|              0|                4|          1|                 1|                    11000.0|                             0|      137965|\n",
            "|     5|   157063|    115|       156|              0|                5|          2|                 1|                     5000.0|                             0|      157063|\n",
            "|     6|   176092|    115|        51|              0|                6|          0|                 1|                    17000.0|                             0|      176092|\n",
            "|     7|   194190|    115|        50|              0|                7|          3|                 1|                    17000.0|                             0|      194190|\n",
            "|     8|   212463|    115|      7896|              0|                8|          2|                 1|                    16000.0|                             0|      212463|\n",
            "|     9|   230983|    115|      7863|              0|                9|          0|                 1|                    16000.0|                             0|      230983|\n",
            "|    10|   255381|    115|       152|              0|               10|          2|                 0|                    17000.0|                             0|      255381|\n",
            "|    11|   280033|    115|       104|              0|               11|          1|                 0|                    22000.0|                             0|      280033|\n",
            "|    12|   302994|    115|       108|              0|               12|          1|                 0|                    23000.0|                             0|      302994|\n",
            "|    13|   328686|    115|      7900|              0|               13|          0|                 1|                    21000.0|                             0|      328686|\n",
            "|    14|   352686|    115|      7901|              0|               14|          1|                 1|                    24000.0|                             0|      352686|\n",
            "|    15|   376162|    115|      7971|              0|               15|          2|                 1|                    22000.0|                             0|      376162|\n",
            "|    16|   398020|    115|        25|              0|               16|          1|                 1|                    21000.0|                             0|      398020|\n",
            "|    17|   418008|    115|       183|              0|               17|          0|                 0|                    20000.0|                             0|      418008|\n",
            "|    18|   437272|    115|      7926|              0|               18|          1|                 1|                    18000.0|                             0|      437272|\n",
            "|    19|   468511|    115|      7927|              0|               19|          3|                 1|                    17000.0|                             0|      468511|\n",
            "|    20|   490100|    115|         4|              0|               20|          1|                 0|                    29000.0|                             0|      490100|\n",
            "+------+---------+-------+----------+---------------+-----------------+-----------+------------------+---------------------------+------------------------------+------------+\n",
            "only showing top 20 rows\n",
            "\n"
          ]
        }
      ]
    },
    {
      "cell_type": "markdown",
      "source": [
        "3. Удаление столбца: используйте метод drop, который принимает имя столбца и возвращает данные."
      ],
      "metadata": {
        "id": "8f7xcjQv-h-u"
      }
    },
    {
      "cell_type": "code",
      "source": [
        "df = df.drop('data_changed')\n",
        "df.show(5)"
      ],
      "metadata": {
        "colab": {
          "base_uri": "https://localhost:8080/"
        },
        "id": "Gj5w71yH-op2",
        "outputId": "f13f1e6f-4c01-430e-e460-a398fc5b4645"
      },
      "execution_count": 28,
      "outputs": [
        {
          "output_type": "stream",
          "name": "stdout",
          "text": [
            "+------+---------+-------+----------+---------------+-----------------+-----------+------------------+---------------------------+------------------------------+\n",
            "|row_id|timestamp|user_id|content_id|content_type_id|task_container_id|user_answer|answered_correctly|prior_question_elapsed_time|prior_question_had_explanation|\n",
            "+------+---------+-------+----------+---------------+-----------------+-----------+------------------+---------------------------+------------------------------+\n",
            "|     1|    56943|    115|      5716|              0|                2|          2|                 1|                    37000.0|                             0|\n",
            "|     2|   118363|    115|       128|              0|                0|          0|                 1|                    55000.0|                             0|\n",
            "|     3|   131167|    115|      7860|              0|                3|          0|                 1|                    19000.0|                             0|\n",
            "|     4|   137965|    115|      7922|              0|                4|          1|                 1|                    11000.0|                             0|\n",
            "|     5|   157063|    115|       156|              0|                5|          2|                 1|                     5000.0|                             0|\n",
            "+------+---------+-------+----------+---------------+-----------------+-----------+------------------+---------------------------+------------------------------+\n",
            "only showing top 5 rows\n",
            "\n"
          ]
        }
      ]
    },
    {
      "cell_type": "markdown",
      "source": [
        "## Работа с недостающими значениями\n",
        "Мы часто сталкиваемся с отсутствующими значениями при работе с данными реального времени. Эти пропущенные значения обозначаются как NaN, пробелы или другие заполнители. Существуют различные методы работы с пропущенными значениями, некоторые из самых популярных:\n",
        "\n",
        "* Удаление: удалить строки с пропущенными значениями в любом из столбцов.\n",
        "* Замена средним/медианным значением: замените отсутствующие значения, используя среднее или медиану соответствующего столбца. Это просто, быстро и хорошо работает с небольшими наборами числовых данных.\n",
        "* Замена на наиболее частые значения: как следует из названия, используйте наиболее часто встречающееся значение в столбце, чтобы заменить отсутствующие. Это хорошо работает с категориальными признаками, но также может вносить смещение (bias) в данные.\n",
        "* Замена с использованием KNN: метод K-ближайших соседей — это алгоритм классификации, который рассчитывает сходство признаков новых точек данных с уже существующими, используя различные метрики расстояния, такие как Евклидова, Махаланобиса, Манхэттена, Минковского, Хэмминга и другие. Такой подход более точен по сравнению с вышеупомянутыми методами, но он требует больших вычислительных ресурсов и довольно чувствителен к выбросам.\n",
        "\n",
        "Давайте посмотрим, как мы можем использовать PySpark для решения проблемы отсутствующих значений:"
      ],
      "metadata": {
        "id": "fSr7XPOt-zeZ"
      }
    },
    {
      "cell_type": "code",
      "source": [
        "# Удаление строк с пропущенными значениями\n",
        "df.na.drop()\n",
        "\n",
        "# Замена отсутствующих значений средним\n",
        "df.na.fill(df.select(df.mean(df['user_answer'])).collect()[0][0])\n",
        "\n",
        "# Замена отсутствующих значений новыми\n",
        "df.na.replace(old_value, new_vallue)"
      ],
      "metadata": {
        "id": "nTVT3Ns8-_Iu"
      },
      "execution_count": null,
      "outputs": []
    },
    {
      "cell_type": "markdown",
      "source": [
        "## Структурирование данных с помощью схемы Spark\n",
        "Давайте прочитаем данные о ценах на акции в США с января 2019 года по июль 2020 года, которые доступны в [датасетах Kaggle](https://www.kaggle.com/datasets/dinnymathew/usstockprices).\n",
        "\n",
        "Код для чтения данных в формате файла CSV:"
      ],
      "metadata": {
        "id": "DTem83JuPdEr"
      }
    },
    {
      "cell_type": "code",
      "source": [
        "data = spark.read.csv(\n",
        "    'stocks_price_final.csv',\n",
        "    sep=',',\n",
        "    header=True,\n",
        ")\n",
        "\n",
        "data.printSchema()"
      ],
      "metadata": {
        "colab": {
          "base_uri": "https://localhost:8080/"
        },
        "id": "yZq5p9qoKbd3",
        "outputId": "3ce8571a-68fd-45e2-ba07-e956c4710e25"
      },
      "execution_count": 45,
      "outputs": [
        {
          "output_type": "stream",
          "name": "stdout",
          "text": [
            "root\n",
            " |-- _c0: string (nullable = true)\n",
            " |-- symbol: string (nullable = true)\n",
            " |-- date: string (nullable = true)\n",
            " |-- open: string (nullable = true)\n",
            " |-- high: string (nullable = true)\n",
            " |-- low: string (nullable = true)\n",
            " |-- close: string (nullable = true)\n",
            " |-- volume: string (nullable = true)\n",
            " |-- adjusted: string (nullable = true)\n",
            " |-- market.cap: string (nullable = true)\n",
            " |-- sector: string (nullable = true)\n",
            " |-- industry: string (nullable = true)\n",
            " |-- exchange: string (nullable = true)\n",
            "\n"
          ]
        }
      ]
    },
    {
      "cell_type": "code",
      "source": [
        "data.show()"
      ],
      "metadata": {
        "colab": {
          "base_uri": "https://localhost:8080/"
        },
        "id": "Z3eVoybCLEcz",
        "outputId": "95006235-2488-47b3-ddbc-bf45d7e502e2"
      },
      "execution_count": 48,
      "outputs": [
        {
          "output_type": "stream",
          "name": "stdout",
          "text": [
            "+---+------+----------+---------+---------+---------+---------+-------+---------+----------+-------------+--------------------+--------+\n",
            "|_c0|symbol|      date|     open|     high|      low|    close| volume| adjusted|market.cap|       sector|            industry|exchange|\n",
            "+---+------+----------+---------+---------+---------+---------+-------+---------+----------+-------------+--------------------+--------+\n",
            "|  1|   TXG|2019-09-12|       54|       58|       51|    52.75|7326300|    52.75|    $9.31B|Capital Goods|Biotechnology: La...|  NASDAQ|\n",
            "|  2|   TXG|2019-09-13|    52.75|   54.355|49.150002|    52.27|1025200|    52.27|    $9.31B|Capital Goods|Biotechnology: La...|  NASDAQ|\n",
            "|  3|   TXG|2019-09-16|52.450001|       56|52.009998|55.200001| 269900|55.200001|    $9.31B|Capital Goods|Biotechnology: La...|  NASDAQ|\n",
            "|  4|   TXG|2019-09-17|56.209999|60.900002|   55.423|56.779999| 602800|56.779999|    $9.31B|Capital Goods|Biotechnology: La...|  NASDAQ|\n",
            "|  5|   TXG|2019-09-18|56.849998|    62.27|55.650002|       62|1589600|       62|    $9.31B|Capital Goods|Biotechnology: La...|  NASDAQ|\n",
            "|  6|   TXG|2019-09-19|62.810001|   63.375|61.029999|61.119999| 425200|61.119999|    $9.31B|Capital Goods|Biotechnology: La...|  NASDAQ|\n",
            "|  7|   TXG|2019-09-20|61.709999|62.419998|    59.82|     60.5| 392000|     60.5|    $9.31B|Capital Goods|Biotechnology: La...|  NASDAQ|\n",
            "|  8|   TXG|2019-09-23|60.220001|61.485001|59.939999|60.330002| 137200|60.330002|    $9.31B|Capital Goods|Biotechnology: La...|  NASDAQ|\n",
            "|  9|   TXG|2019-09-24|       61|       61|       54|54.299999| 713800|54.299999|    $9.31B|Capital Goods|Biotechnology: La...|  NASDAQ|\n",
            "| 10|   TXG|2019-09-25|54.459999|55.880001|   52.563|52.759998| 261200|52.759998|    $9.31B|Capital Goods|Biotechnology: La...|  NASDAQ|\n",
            "| 11|   TXG|2019-09-26|52.779999|53.689999|46.619999|49.990002| 596300|49.990002|    $9.31B|Capital Goods|Biotechnology: La...|  NASDAQ|\n",
            "| 12|   TXG|2019-09-27|51.130001|       55|50.700001|51.029999| 621300|51.029999|    $9.31B|Capital Goods|Biotechnology: La...|  NASDAQ|\n",
            "| 13|   TXG|2019-09-30|51.049999|       52|    49.25|50.400002| 168900|50.400002|    $9.31B|Capital Goods|Biotechnology: La...|  NASDAQ|\n",
            "| 14|   TXG|2019-10-01|50.509998|51.919998|       46|47.029999| 536300|47.029999|    $9.31B|Capital Goods|Biotechnology: La...|  NASDAQ|\n",
            "| 15|   TXG|2019-10-02|46.779999|    47.23|45.110001|    46.07| 519600|    46.07|    $9.31B|Capital Goods|Biotechnology: La...|  NASDAQ|\n",
            "| 16|   TXG|2019-10-03|    46.77|48.240002|    45.75|48.119999| 703900|48.119999|    $9.31B|Capital Goods|Biotechnology: La...|  NASDAQ|\n",
            "| 17|   TXG|2019-10-04|       48|    53.34|    47.82|51.450001| 322400|51.450001|    $9.31B|Capital Goods|Biotechnology: La...|  NASDAQ|\n",
            "| 18|   TXG|2019-10-07|52.099998|53.220001|49.029999|50.360001| 476600|50.360001|    $9.31B|Capital Goods|Biotechnology: La...|  NASDAQ|\n",
            "| 19|   TXG|2019-10-08|       50|    51.27|       49|49.549999| 284100|49.549999|    $9.31B|Capital Goods|Biotechnology: La...|  NASDAQ|\n",
            "| 20|   TXG|2019-10-09|49.630001|51.525002|49.575001|50.009998| 201100|50.009998|    $9.31B|Capital Goods|Biotechnology: La...|  NASDAQ|\n",
            "+---+------+----------+---------+---------+---------+---------+-------+---------+----------+-------------+--------------------+--------+\n",
            "only showing top 20 rows\n",
            "\n"
          ]
        }
      ]
    },
    {
      "cell_type": "markdown",
      "source": [
        "## Получение данных\n",
        "PySpark и PySpark SQL предоставляют широкий спектр методов и функций для удобного запроса данных. Вот список наиболее часто используемых методов:\n",
        "\n",
        "* Select\n",
        "* Filter\n",
        "* Between\n",
        "* When\n",
        "* Like\n",
        "* GroupBy\n",
        "* Агрегирование\n",
        "\n",
        "## Select\n",
        "Он используется для выбора одного или нескольких столбцов, используя их имена. Вот простой пример:"
      ],
      "metadata": {
        "id": "221bRcdaACCi"
      }
    },
    {
      "cell_type": "code",
      "source": [
        "# Выбор одного столбца\n",
        "data.select('sector').show(5)\n",
        "\n",
        "# Выбор нескольких столбцов\n",
        "data.select(['open', 'close', 'adjusted']).show(5)"
      ],
      "metadata": {
        "colab": {
          "base_uri": "https://localhost:8080/"
        },
        "id": "ppBa97z0AVU2",
        "outputId": "320d66a2-72a7-4a55-a3d9-5f6de5a9836c"
      },
      "execution_count": 46,
      "outputs": [
        {
          "output_type": "stream",
          "name": "stdout",
          "text": [
            "+-------------+\n",
            "|       sector|\n",
            "+-------------+\n",
            "|Capital Goods|\n",
            "|Capital Goods|\n",
            "|Capital Goods|\n",
            "|Capital Goods|\n",
            "|Capital Goods|\n",
            "+-------------+\n",
            "only showing top 5 rows\n",
            "\n",
            "+---------+---------+---------+\n",
            "|     open|    close| adjusted|\n",
            "+---------+---------+---------+\n",
            "|       54|    52.75|    52.75|\n",
            "|    52.75|    52.27|    52.27|\n",
            "|52.450001|55.200001|55.200001|\n",
            "|56.209999|56.779999|56.779999|\n",
            "|56.849998|       62|       62|\n",
            "+---------+---------+---------+\n",
            "only showing top 5 rows\n",
            "\n"
          ]
        }
      ]
    },
    {
      "cell_type": "markdown",
      "source": [
        "## Filter\n",
        "Данный метод фильтрует данные на основе заданного условия. Вы также можете указать несколько условий, используя операторы AND (&), OR (|) и NOT (~). Вот пример получения данных о ценах на акции за январь 2020 года."
      ],
      "metadata": {
        "id": "bdkmZ-kGAxVe"
      }
    },
    {
      "cell_type": "code",
      "source": [
        "from pyspark.sql.functions import col, to_date\n",
        "\n",
        "data.filter((col('date') >= to_date(lit('2020-01-01'))) & (col('date') <= to_date(lit('2020-01-31')))).show(5)\n",
        "\n"
      ],
      "metadata": {
        "colab": {
          "base_uri": "https://localhost:8080/"
        },
        "id": "COU7yJ8XBpBg",
        "outputId": "4c994ee9-d996-4488-cbc7-8980f708e30f"
      },
      "execution_count": 54,
      "outputs": [
        {
          "output_type": "stream",
          "name": "stdout",
          "text": [
            "+---+------+----------+---------+---------+---------+---------+------+---------+----------+-------------+--------------------+--------+\n",
            "|_c0|symbol|      date|     open|     high|      low|    close|volume| adjusted|market.cap|       sector|            industry|exchange|\n",
            "+---+------+----------+---------+---------+---------+---------+------+---------+----------+-------------+--------------------+--------+\n",
            "| 78|   TXG|2020-01-02|76.910004|77.989998|71.480003|72.830002|220200|72.830002|    $9.31B|Capital Goods|Biotechnology: La...|  NASDAQ|\n",
            "| 79|   TXG|2020-01-03|71.519997|76.188004|70.580002|75.559998|288300|75.559998|    $9.31B|Capital Goods|Biotechnology: La...|  NASDAQ|\n",
            "| 80|   TXG|2020-01-06|75.269997|77.349998|73.559998|75.550003|220600|75.550003|    $9.31B|Capital Goods|Biotechnology: La...|  NASDAQ|\n",
            "| 81|   TXG|2020-01-07|       76|77.279999|    75.32|75.980003|182400|75.980003|    $9.31B|Capital Goods|Biotechnology: La...|  NASDAQ|\n",
            "| 82|   TXG|2020-01-08|76.089996|76.949997|72.739998|74.839996|172100|74.839996|    $9.31B|Capital Goods|Biotechnology: La...|  NASDAQ|\n",
            "+---+------+----------+---------+---------+---------+---------+------+---------+----------+-------------+--------------------+--------+\n",
            "only showing top 5 rows\n",
            "\n"
          ]
        }
      ]
    },
    {
      "cell_type": "markdown",
      "source": [
        "## Between\n",
        "Этот метод возвращает `True`, если проверяемое значение принадлежит указанному отрезку, иначе — `False`. Давайте посмотрим на пример отбора данных, в которых значения `adjusted` находятся в диапазоне от 100 до 500"
      ],
      "metadata": {
        "id": "eOWIJe0gCYgu"
      }
    },
    {
      "cell_type": "code",
      "source": [
        "data.filter(data.adjusted.between(100.0, 500.0)).show()"
      ],
      "metadata": {
        "colab": {
          "base_uri": "https://localhost:8080/"
        },
        "id": "I25w5RAKCd0s",
        "outputId": "cd450f16-acec-4ea4-b699-f29497604d1a"
      },
      "execution_count": 55,
      "outputs": [
        {
          "output_type": "stream",
          "name": "stdout",
          "text": [
            "+----+------+----------+----------+----------+----------+----------+------+----------+----------+-------------+--------------------+--------+\n",
            "| _c0|symbol|      date|      open|      high|       low|     close|volume|  adjusted|market.cap|       sector|            industry|exchange|\n",
            "+----+------+----------+----------+----------+----------+----------+------+----------+----------+-------------+--------------------+--------+\n",
            "|  93|   TXG|2020-01-24| 95.459999|       101| 94.157997|100.790001|328100|100.790001|    $9.31B|Capital Goods|Biotechnology: La...|  NASDAQ|\n",
            "|  94|   TXG|2020-01-27| 99.760002|104.892998| 97.019997|103.209999|334900|103.209999|    $9.31B|Capital Goods|Biotechnology: La...|  NASDAQ|\n",
            "|  95|   TXG|2020-01-28|104.620003|108.269997|103.297997|106.620003|245400|106.620003|    $9.31B|Capital Goods|Biotechnology: La...|  NASDAQ|\n",
            "|6893|  ABMD|2019-01-02|315.940002|320.709991|307.029999|309.959991|590000|309.959991|   $13.39B|  Health Care|Medical/Dental In...|  NASDAQ|\n",
            "|6894|  ABMD|2019-01-03|    307.25| 311.73999|293.660004|302.290009|665300|302.290009|   $13.39B|  Health Care|Medical/Dental In...|  NASDAQ|\n",
            "|6895|  ABMD|2019-01-04|305.309998|321.480011|304.980011|313.440002|624300|313.440002|   $13.39B|  Health Care|Medical/Dental In...|  NASDAQ|\n",
            "|6896|  ABMD|2019-01-07|     313.5|     315.5|305.559998|314.799988|710600|314.799988|   $13.39B|  Health Care|Medical/Dental In...|  NASDAQ|\n",
            "|6897|  ABMD|2019-01-08|318.450012|323.100006|312.220001|318.420013|570700|318.420013|   $13.39B|  Health Care|Medical/Dental In...|  NASDAQ|\n",
            "|6898|  ABMD|2019-01-09| 324.73999|342.970001|322.100006|336.399994|623900|336.399994|   $13.39B|  Health Care|Medical/Dental In...|  NASDAQ|\n",
            "|6899|  ABMD|2019-01-10|334.100006|340.869995|322.769989|335.130005|531100|335.130005|   $13.39B|  Health Care|Medical/Dental In...|  NASDAQ|\n",
            "|6900|  ABMD|2019-01-11|332.769989|334.200012|320.519989|323.799988|545100|323.799988|   $13.39B|  Health Care|Medical/Dental In...|  NASDAQ|\n",
            "|6901|  ABMD|2019-01-14|321.899994|       322|314.059998|    315.25|343400|    315.25|   $13.39B|  Health Care|Medical/Dental In...|  NASDAQ|\n",
            "|6902|  ABMD|2019-01-15|316.619995|327.570007|316.619995|325.609985|358200|325.609985|   $13.39B|  Health Care|Medical/Dental In...|  NASDAQ|\n",
            "|6903|  ABMD|2019-01-16|326.059998|332.929993|323.290009|324.130005|476900|324.130005|   $13.39B|  Health Care|Medical/Dental In...|  NASDAQ|\n",
            "|6904|  ABMD|2019-01-17|324.059998|332.940002|324.059998|330.320007|305600|330.320007|   $13.39B|  Health Care|Medical/Dental In...|  NASDAQ|\n",
            "|6905|  ABMD|2019-01-18|335.200012|337.160004|     326.5| 333.73999|459800| 333.73999|   $13.39B|  Health Care|Medical/Dental In...|  NASDAQ|\n",
            "|6906|  ABMD|2019-01-22|333.549988|339.670013|330.850006|336.130005|669100|336.130005|   $13.39B|  Health Care|Medical/Dental In...|  NASDAQ|\n",
            "|6907|  ABMD|2019-01-23|339.140015|344.970001|    332.75|336.980011|376100|336.980011|   $13.39B|  Health Care|Medical/Dental In...|  NASDAQ|\n",
            "|6908|  ABMD|2019-01-24|     337.5|349.339996|334.950012|     348.5|734200|     348.5|   $13.39B|  Health Care|Medical/Dental In...|  NASDAQ|\n",
            "|6909|  ABMD|2019-01-25| 349.98999|353.920013|346.459991|349.369995|416000|349.369995|   $13.39B|  Health Care|Medical/Dental In...|  NASDAQ|\n",
            "+----+------+----------+----------+----------+----------+----------+------+----------+----------+-------------+--------------------+--------+\n",
            "only showing top 20 rows\n",
            "\n"
          ]
        }
      ]
    },
    {
      "cell_type": "markdown",
      "source": [
        "## When\n",
        "Он возвращает 0 или 1 в зависимости от заданного условия. В приведенном ниже примере показано, как выбрать такие цены на момент открытия и закрытия торгов, при которых скорректированная цена была больше или равна 200."
      ],
      "metadata": {
        "id": "HZxQ5uaxDOid"
      }
    },
    {
      "cell_type": "code",
      "source": [
        "from pyspark.sql import functions as F\n",
        "\n",
        "data.select('open', 'close',\n",
        "            F.when(data.adjusted >= 200.0, 1).otherwise(0)\n",
        ").show(5)\n"
      ],
      "metadata": {
        "colab": {
          "base_uri": "https://localhost:8080/"
        },
        "id": "zkuotHwhDZzP",
        "outputId": "f87ff36d-113d-484d-c259-843c1a79e42b"
      },
      "execution_count": 57,
      "outputs": [
        {
          "output_type": "stream",
          "name": "stdout",
          "text": [
            "+---------+---------+-----------------------------------------------+\n",
            "|     open|    close|CASE WHEN (adjusted >= 200.0) THEN 1 ELSE 0 END|\n",
            "+---------+---------+-----------------------------------------------+\n",
            "|       54|    52.75|                                              0|\n",
            "|    52.75|    52.27|                                              0|\n",
            "|52.450001|55.200001|                                              0|\n",
            "|56.209999|56.779999|                                              0|\n",
            "|56.849998|       62|                                              0|\n",
            "+---------+---------+-----------------------------------------------+\n",
            "only showing top 5 rows\n",
            "\n"
          ]
        }
      ]
    },
    {
      "cell_type": "markdown",
      "source": [
        "## Like\n",
        "Этот метод похож на оператор Like в SQL. Приведенный ниже код демонстрирует использование `rlike()` для извлечения имен секторов, которые начинаются с букв M или C."
      ],
      "metadata": {
        "id": "NfJmL_WWEzal"
      }
    },
    {
      "cell_type": "code",
      "source": [
        "data.select(\n",
        "    'sector',\n",
        "    data.sector.rlike('^[B,C]').alias('Колонка sector начинается с B или C')\n",
        ").distinct().show()\n"
      ],
      "metadata": {
        "colab": {
          "base_uri": "https://localhost:8080/"
        },
        "id": "-2bn_HFPE-PD",
        "outputId": "05174d24-41ee-419e-8474-320e8bb2dd77"
      },
      "execution_count": 58,
      "outputs": [
        {
          "output_type": "stream",
          "name": "stdout",
          "text": [
            "+--------------------+-----------------------------------+\n",
            "|              sector|Колонка sector начинается с B или C|\n",
            "+--------------------+-----------------------------------+\n",
            "|         Health Care|                              false|\n",
            "|       Capital Goods|                               true|\n",
            "|Consumer Non-Dura...|                               true|\n",
            "|    Public Utilities|                              false|\n",
            "|             Finance|                              false|\n",
            "|      Transportation|                              false|\n",
            "|       Miscellaneous|                              false|\n",
            "|   Consumer Services|                               true|\n",
            "|              Energy|                              false|\n",
            "|    Basic Industries|                               true|\n",
            "|          Technology|                              false|\n",
            "|   Consumer Durables|                               true|\n",
            "+--------------------+-----------------------------------+\n",
            "\n"
          ]
        }
      ]
    },
    {
      "cell_type": "markdown",
      "source": [
        "## GroupBy\n",
        "Само название подсказывает, что данная функция группирует данные по выбранному столбцу и выполняет различные операции, такие как вычисление суммы, среднего, минимального, максимального значения и т. д. В приведенном ниже примере объясняется, как получить среднюю цену открытия, закрытия и скорректированную цену акций по отраслям."
      ],
      "metadata": {
        "id": "UvhVnERVFiqS"
      }
    },
    {
      "cell_type": "code",
      "source": [
        "data.select(['industry', 'open', 'close', 'adjusted'])\\\n",
        "    .groupBy('industry')\\\n",
        "    .mean()\\\n",
        "    .show()"
      ],
      "metadata": {
        "colab": {
          "base_uri": "https://localhost:8080/"
        },
        "id": "ZecOdqwpHUda",
        "outputId": "dd0c0287-19ae-4121-9c5a-b3d3fb9047fd"
      },
      "execution_count": 59,
      "outputs": [
        {
          "output_type": "stream",
          "name": "stdout",
          "text": [
            "+--------------------+\n",
            "|            industry|\n",
            "+--------------------+\n",
            "|Finance/Investors...|\n",
            "|Biotechnology: Bi...|\n",
            "|Other Specialty S...|\n",
            "|Other Consumer Se...|\n",
            "|        Water Supply|\n",
            "|               Banks|\n",
            "|Farming/Seeds/Mil...|\n",
            "|Medical/Nursing S...|\n",
            "|Biotechnology: La...|\n",
            "|Medical Specialities|\n",
            "|Computer Software...|\n",
            "|Biotechnology: In...|\n",
            "|    Power Generation|\n",
            "|Property-Casualty...|\n",
            "|Real Estate Inves...|\n",
            "|Office Equipment/...|\n",
            "|Radio And Televis...|\n",
            "|     Major Chemicals|\n",
            "|Telecommunication...|\n",
            "|           Aerospace|\n",
            "+--------------------+\n",
            "only showing top 20 rows\n",
            "\n"
          ]
        }
      ]
    },
    {
      "cell_type": "markdown",
      "source": [
        "## Агрегирование\n",
        "PySpark предоставляет встроенные стандартные функции агрегации, определенные в API DataFrame, они могут пригодится, когда нам нужно выполнить агрегирование значений ваших столбцов. Другими словами, такие функции работают с группами строк и вычисляют единственное возвращаемое значение для каждой группы.\n",
        "\n",
        "В приведенном ниже примере показано, как отобразить минимальные, максимальные и средние значения цен открытия, закрытия и скорректированных цен акций в промежутке с января 2019 года по январь 2020 года для каждого сектора."
      ],
      "metadata": {
        "id": "obvxwsv_NCUK"
      }
    },
    {
      "cell_type": "code",
      "source": [
        "from pyspark.sql import functions as f\n",
        "\n",
        "data.filter((col('date') >= lit('2019-01-02')) & (col('date') <= lit('2020-01-31')))\\\n",
        "    .groupBy(\"sector\") \\\n",
        "    .agg(f.min(\"date\").alias(\"С\"),\n",
        "         f.max(\"date\").alias(\"По\"),\n",
        "\n",
        "         f.min(\"open\").alias(\"Минимум при открытии\"),\n",
        "         f.max(\"open\").alias(\"Максимум при открытии\"),\n",
        "         f.avg(\"open\").alias(\"Среднее в open\"),\n",
        "\n",
        "         f.min(\"close\").alias(\"Минимум при закрытии\"),\n",
        "         f.max(\"close\").alias(\"Максимум при закрытии\"),\n",
        "         f.avg(\"close\").alias(\"Среднее в close\"),\n",
        "\n",
        "         f.min(\"adjusted\").alias(\"Скорректированный минимум\"),\n",
        "         f.max(\"adjusted\").alias(\"Скорректированный максимум\"),\n",
        "         f.avg(\"adjusted\").alias(\"Среднее в adjusted\"),\n",
        "\n",
        "      ).show(truncate=False)"
      ],
      "metadata": {
        "colab": {
          "base_uri": "https://localhost:8080/"
        },
        "id": "KLadWnY8NF5y",
        "outputId": "51087c61-763f-449d-cc8e-39fdbd719c92"
      },
      "execution_count": 61,
      "outputs": [
        {
          "output_type": "stream",
          "name": "stdout",
          "text": [
            "+---------------------+----------+----------+--------------------+---------------------+------------------+--------------------+---------------------+------------------+-------------------------+--------------------------+------------------+\n",
            "|sector               |С         |По        |Минимум при открытии|Максимум при открытии|Среднее в open    |Минимум при закрытии|Максимум при закрытии|Среднее в close   |Скорректированный минимум|Скорректированный максимум|Среднее в adjusted|\n",
            "+---------------------+----------+----------+--------------------+---------------------+------------------+--------------------+---------------------+------------------+-------------------------+--------------------------+------------------+\n",
            "|Basic Industries     |2019-01-02|2020-01-31|0.61                |99.610001            |22.54558176129424 |0.625               |99.769997            |22.560210586691085|0.625                    |99.769997                 |22.44183949450549 |\n",
            "|Capital Goods        |2019-01-02|2020-01-31|0.83                |99.760002            |34.60891470508333 |0.84                |99.290001            |34.612133840929026|0.84                     |99.290001                 |34.46813599255042 |\n",
            "|Consumer Durables    |2019-01-02|2020-01-31|10.1                |99.889999            |50.23003654945056 |10.08               |99.959999            |50.24212454029306 |10.08                    |99.959999                 |50.24212454029306 |\n",
            "|Consumer Non-Durables|2019-01-02|2020-01-31|14.75               |38                   |24.308992721611716|14.99               |37.990002            |24.29152013553114 |14.634263                |37.763397                 |23.95648766849816 |\n",
            "|Consumer Services    |2019-01-02|2020-01-31|0.49                |9.99                 |203.72526589327728|0.48                |9.97                 |203.7617756234466 |0.48                     |9.997308                  |203.39412309334196|\n",
            "|Energy               |2019-01-02|2020-01-31|0.24                |9.97                 |8.433937732600734 |0.23                |9.99                 |8.403791184981682 |0.23                     |9.996321                  |7.554199038461535 |\n",
            "|Finance              |2019-01-02|2020-01-31|1.36                |NA                   |23.586423093926676|1.36                |NA                   |23.58969663183071 |1.36                     |NA                        |23.01350619307152 |\n",
            "|Health Care          |2019-01-02|2020-01-31|0.216               |NA                   |28.531458993769597|0.249               |NA                   |28.5277653186971  |0.249                    |NA                        |28.444572211535174|\n",
            "|Miscellaneous        |2019-01-02|2020-01-31|1.05                |97.199997            |27.146025151826468|1.05                |96.440002            |27.153852770547946|1.05                     |96.440002                 |27.153852770547946|\n",
            "|Public Utilities     |2019-01-02|2020-01-31|1.44                |99.400002            |28.560973775946255|1.55                |99.400002            |28.4925793656899  |1.478462                 |99.400002                 |28.135387569597086|\n",
            "|Technology           |2019-01-02|2020-01-31|0.91                |NA                   |114.89435741508312|0.9                 |NA                   |115.00121072000975|0.9                      |NA                        |114.86010719029177|\n",
            "|Transportation       |2019-01-02|2020-01-31|102.519997          |98.599998            |54.839453607142886|101.43              |36.93                |54.8539286117216  |101.39711                |98.996132                 |54.271724081501866|\n",
            "+---------------------+----------+----------+--------------------+---------------------+------------------+--------------------+---------------------+------------------+-------------------------+--------------------------+------------------+\n",
            "\n"
          ]
        }
      ]
    },
    {
      "cell_type": "markdown",
      "source": [
        "## Запись/сохранение данных в файл\n",
        "Метод `write.save()` используется для сохранения данных в различных форматах, таких как CSV, JSVON, Parquet и других. Давайте рассмотрим, как записать данные в файлы разных форматов. Мы можем сохранить как все строки, так и только выбранные с помощью метода `select()`."
      ],
      "metadata": {
        "id": "h33C9DFxOrsd"
      }
    },
    {
      "cell_type": "code",
      "source": [
        "# CSV\n",
        "data.write.csv('dataset.csv')\n",
        "\n",
        "# JSON\n",
        "data.write.save('dataset.json', format='json')\n",
        "\n",
        "# Parquet\n",
        "data.write.save('dataset.parquet', format='parquet')\n",
        "\n",
        "# Запись выбранных данных в различные форматы файлов\n",
        "\n",
        "# CSV\n",
        "data.select(['data', 'open', 'close', 'adjusted'])\\\n",
        "    .write.csv('dataset.csv')\n",
        "\n",
        "# JSON\n",
        "data.select(['data', 'open', 'close', 'adjusted'])\\\n",
        "    .write.save('dataset.json', format='json')\n",
        "\n",
        "# Parquet\n",
        "data.select(['data', 'open', 'close', 'adjusted'])\\\n",
        "    .write.save('dataset.parquet', format='parquet')"
      ],
      "metadata": {
        "id": "yQshJuewO5QO"
      },
      "execution_count": null,
      "outputs": []
    },
    {
      "cell_type": "markdown",
      "source": [],
      "metadata": {
        "id": "maTcgYpjPxUK"
      }
    }
  ],
  "metadata": {
    "colab": {
      "provenance": [],
      "mount_file_id": "1LFG53RoUa0Y59PGEtNp348NtWGoi9SNU",
      "authorship_tag": "ABX9TyNrG9yzC8ljq5xsSSOomJO9",
      "include_colab_link": true
    },
    "kernelspec": {
      "display_name": "Python 3",
      "name": "python3"
    },
    "language_info": {
      "name": "python"
    }
  },
  "nbformat": 4,
  "nbformat_minor": 0
}